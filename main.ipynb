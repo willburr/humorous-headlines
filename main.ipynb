{
  "nbformat": 4,
  "nbformat_minor": 0,
  "metadata": {
    "kernelspec": {
      "display_name": "Python 3",
      "language": "python",
      "name": "python3"
    },
    "language_info": {
      "codemirror_mode": {
        "name": "ipython",
        "version": 3
      },
      "file_extension": ".py",
      "mimetype": "text/x-python",
      "name": "python",
      "nbconvert_exporter": "python",
      "pygments_lexer": "ipython3",
      "version": "3.7.1"
    },
    "colab": {
      "name": "main.ipynb",
      "provenance": [],
      "collapsed_sections": [],
      "toc_visible": true,
      "include_colab_link": true
    },
    "accelerator": "GPU"
  },
  "cells": [
    {
      "cell_type": "markdown",
      "metadata": {
        "id": "view-in-github",
        "colab_type": "text"
      },
      "source": [
        "<a href=\"https://colab.research.google.com/github/willburr/humorous-headlines/blob/test-eval/main.ipynb\" target=\"_parent\"><img src=\"https://colab.research.google.com/assets/colab-badge.svg\" alt=\"Open In Colab\"/></a>"
      ]
    },
    {
      "cell_type": "markdown",
      "metadata": {
        "id": "XEewKMPzm6ys"
      },
      "source": [
        "### Coursework coding instructions (please also see full coursework spec)\n",
        "\n",
        "Please choose if you want to do either Task 1 or Task 2. You should write your report about one task only.\n",
        "\n",
        "For the task you choose you will need to do two approaches:\n",
        "  - Approach 1, which can use use pre-trained embeddings / models\n",
        "  - Approach 2, which should not use any pre-trained embeddings or models\n",
        "We should be able to run both approaches from the same colab file\n",
        "\n",
        "#### Running your code:\n",
        "  - Your models should run automatically when running your colab file without further intervention\n",
        "  - For each task you should automatically output the performance of both models\n",
        "  - Your code should automatically download any libraries required\n",
        "\n",
        "#### Structure of your code:\n",
        "  - You are expected to use the 'train', 'eval' and 'model_performance' functions, although you may edit these as required\n",
        "  - Otherwise there are no restrictions on what you can do in your code\n",
        "\n",
        "#### Documentation:\n",
        "  - You are expected to produce a .README file summarising how you have approached both tasks\n",
        "\n",
        "#### Reproducibility:\n",
        "  - Your .README file should explain how to replicate the different experiments mentioned in your report\n",
        "\n",
        "Good luck! We are really looking forward to seeing your reports and your model code!"
      ]
    },
    {
      "cell_type": "markdown",
      "metadata": {
        "id": "WSraR3PdJ2i9"
      },
      "source": [
        "# Project  Set-up\r\n",
        "\r\n",
        "The code blocks below provide the imports and necessaryset-up steps to run later sections. We import necessary libraries, set pytorch to use the GPU and load and unzip the data."
      ]
    },
    {
      "cell_type": "code",
      "metadata": {
        "id": "gFcxAGnSm6y2"
      },
      "source": [
        "# Imports\n",
        "\n",
        "import torch\n",
        "import torch.nn as nn\n",
        "import pandas as pd\n",
        "import numpy as np\n",
        "from sklearn.feature_extraction.text import CountVectorizer\n",
        "from torch.utils.data import Dataset, random_split\n",
        "from sklearn.feature_extraction.text import TfidfTransformer\n",
        "from sklearn.model_selection import train_test_split\n",
        "from sklearn.naive_bayes import MultinomialNB\n",
        "import torch.optim as optim\n",
        "import codecs\n",
        "import tqdm"
      ],
      "execution_count": 1,
      "outputs": []
    },
    {
      "cell_type": "code",
      "metadata": {
        "id": "iM2SBsBzm6y3"
      },
      "source": [
        "# Setting random seed and device\n",
        "SEED = 1\n",
        "\n",
        "torch.manual_seed(SEED)\n",
        "torch.cuda.manual_seed(SEED)\n",
        "torch.backends.cudnn.deterministic = True\n",
        "\n",
        "use_cuda = torch.cuda.is_available()\n",
        "device = torch.device(\"cuda:0\" if use_cuda else \"cpu\")"
      ],
      "execution_count": 2,
      "outputs": []
    },
    {
      "cell_type": "markdown",
      "metadata": {
        "id": "YVWAKu6ALaCL"
      },
      "source": [
        "## Downloading and unzipping the data"
      ]
    },
    {
      "cell_type": "markdown",
      "metadata": {
        "id": "NwyW_fvIKGRL"
      },
      "source": [
        "TODO: Eventually remove drive import and replace with !wget (Might be faster to just do this anyway) "
      ]
    },
    {
      "cell_type": "code",
      "metadata": {
        "id": "9AEMK9jQjem-",
        "colab": {
          "base_uri": "https://localhost:8080/"
        },
        "outputId": "9d899c0f-4ad8-439c-9aae-ce4fdd510b6e"
      },
      "source": [
        "from google.colab import drive\n",
        "drive.mount('/content/drive')"
      ],
      "execution_count": 3,
      "outputs": [
        {
          "output_type": "stream",
          "text": [
            "Mounted at /content/drive\n"
          ],
          "name": "stdout"
        }
      ]
    },
    {
      "cell_type": "code",
      "metadata": {
        "id": "Be0vdDNUlYGA",
        "colab": {
          "base_uri": "https://localhost:8080/"
        },
        "outputId": "ab7c1467-fbc6-4945-9eda-9e707a50a674"
      },
      "source": [
        "# Unzip data\r\n",
        "!unzip \"/content/drive/MyDrive/cw/task-2-20210202T162438Z-001.zip\""
      ],
      "execution_count": 4,
      "outputs": [
        {
          "output_type": "stream",
          "text": [
            "Archive:  /content/drive/MyDrive/cw/task-2-20210202T162438Z-001.zip\n",
            "  inflating: task-2/.DS_Store        \n",
            "  inflating: task-2/dev.csv          \n",
            "  inflating: task-2/train.csv        \n"
          ],
          "name": "stdout"
        }
      ]
    },
    {
      "cell_type": "code",
      "metadata": {
        "id": "9VU17WM0m6y3"
      },
      "source": [
        "# Load data\n",
        "train_df = pd.read_csv('task-2/train.csv')\n",
        "test_df = pd.read_csv('task-2/dev.csv')"
      ],
      "execution_count": 5,
      "outputs": []
    },
    {
      "cell_type": "code",
      "metadata": {
        "id": "-TevikPkl010",
        "colab": {
          "base_uri": "https://localhost:8080/",
          "height": 204
        },
        "outputId": "4bd4bb09-bbe9-4b35-8bdf-429e633fef93"
      },
      "source": [
        "# Take a look at the data\r\n",
        "train_df.head()"
      ],
      "execution_count": 6,
      "outputs": [
        {
          "output_type": "execute_result",
          "data": {
            "text/html": [
              "<div>\n",
              "<style scoped>\n",
              "    .dataframe tbody tr th:only-of-type {\n",
              "        vertical-align: middle;\n",
              "    }\n",
              "\n",
              "    .dataframe tbody tr th {\n",
              "        vertical-align: top;\n",
              "    }\n",
              "\n",
              "    .dataframe thead th {\n",
              "        text-align: right;\n",
              "    }\n",
              "</style>\n",
              "<table border=\"1\" class=\"dataframe\">\n",
              "  <thead>\n",
              "    <tr style=\"text-align: right;\">\n",
              "      <th></th>\n",
              "      <th>id</th>\n",
              "      <th>original1</th>\n",
              "      <th>edit1</th>\n",
              "      <th>grades1</th>\n",
              "      <th>meanGrade1</th>\n",
              "      <th>original2</th>\n",
              "      <th>edit2</th>\n",
              "      <th>grades2</th>\n",
              "      <th>meanGrade2</th>\n",
              "      <th>label</th>\n",
              "    </tr>\n",
              "  </thead>\n",
              "  <tbody>\n",
              "    <tr>\n",
              "      <th>0</th>\n",
              "      <td>10920-9866</td>\n",
              "      <td>\" Gene Cernan , Last &lt;Astronaut/&gt; on the Moon ...</td>\n",
              "      <td>Dancer</td>\n",
              "      <td>1113</td>\n",
              "      <td>1.2</td>\n",
              "      <td>\" Gene Cernan , Last Astronaut on the Moon , &lt;...</td>\n",
              "      <td>impregnated</td>\n",
              "      <td>30001</td>\n",
              "      <td>0.8</td>\n",
              "      <td>1</td>\n",
              "    </tr>\n",
              "    <tr>\n",
              "      <th>1</th>\n",
              "      <td>3176-10722</td>\n",
              "      <td>\" I 'm done \" : Fed up with California , some ...</td>\n",
              "      <td>vagrants</td>\n",
              "      <td>1200</td>\n",
              "      <td>0.6</td>\n",
              "      <td>\" I 'm done \" : Fed up with &lt;California/&gt; , so...</td>\n",
              "      <td>pancakes</td>\n",
              "      <td>10110</td>\n",
              "      <td>0.6</td>\n",
              "      <td>0</td>\n",
              "    </tr>\n",
              "    <tr>\n",
              "      <th>2</th>\n",
              "      <td>3176-3702</td>\n",
              "      <td>\" I 'm done \" : Fed up with California , some ...</td>\n",
              "      <td>vagrants</td>\n",
              "      <td>1200</td>\n",
              "      <td>0.6</td>\n",
              "      <td>\" I 'm done \" : Fed up with &lt;California/&gt; , so...</td>\n",
              "      <td>life</td>\n",
              "      <td>2</td>\n",
              "      <td>0.4</td>\n",
              "      <td>1</td>\n",
              "    </tr>\n",
              "    <tr>\n",
              "      <th>3</th>\n",
              "      <td>10722-3702</td>\n",
              "      <td>\" I 'm done \" : Fed up with &lt;California/&gt; , so...</td>\n",
              "      <td>pancakes</td>\n",
              "      <td>10110</td>\n",
              "      <td>0.6</td>\n",
              "      <td>\" I 'm done \" : Fed up with &lt;California/&gt; , so...</td>\n",
              "      <td>life</td>\n",
              "      <td>2</td>\n",
              "      <td>0.4</td>\n",
              "      <td>1</td>\n",
              "    </tr>\n",
              "    <tr>\n",
              "      <th>4</th>\n",
              "      <td>12282-2083</td>\n",
              "      <td>\" Our expectations of what civic engagement lo...</td>\n",
              "      <td>imagine</td>\n",
              "      <td>0</td>\n",
              "      <td>0.0</td>\n",
              "      <td>\" Our expectations of what civic engagement &lt;l...</td>\n",
              "      <td>smells</td>\n",
              "      <td>100220010</td>\n",
              "      <td>0.6</td>\n",
              "      <td>2</td>\n",
              "    </tr>\n",
              "  </tbody>\n",
              "</table>\n",
              "</div>"
            ],
            "text/plain": [
              "           id  ... label\n",
              "0  10920-9866  ...     1\n",
              "1  3176-10722  ...     0\n",
              "2   3176-3702  ...     1\n",
              "3  10722-3702  ...     1\n",
              "4  12282-2083  ...     2\n",
              "\n",
              "[5 rows x 10 columns]"
            ]
          },
          "metadata": {
            "tags": []
          },
          "execution_count": 6
        }
      ]
    },
    {
      "cell_type": "markdown",
      "metadata": {
        "id": "qSRS6PLHLAtf"
      },
      "source": [
        "## Download and unzip GLOVE Embeddings\r\n",
        "\r\n",
        "TODO: Do we bother using GLOVE at all? May be interesting in report to compare GLOVE vs BERT embeddings?"
      ]
    },
    {
      "cell_type": "code",
      "metadata": {
        "id": "FlEA5Hhym6y1"
      },
      "source": [
        "# You will need to download any word embeddings required for your code, e.g.:\n",
        "\n",
        "# !wget http://nlp.stanford.edu/data/glove.6B.zip\n",
        "# !unzip glove.6B.zip\n",
        "\n",
        "# For any packages that Colab does not provide auotmatically you will also need to install these below, e.g.:\n",
        "\n",
        "#! pip install torch"
      ],
      "execution_count": 7,
      "outputs": []
    },
    {
      "cell_type": "code",
      "metadata": {
        "id": "riXUwYsk9-TO",
        "colab": {
          "base_uri": "https://localhost:8080/"
        },
        "outputId": "fd6aa96c-9fcb-4ffa-8b57-22e5f7bbd029"
      },
      "source": [
        "!unzip '/content/drive/MyDrive/cw/glove.6B.zip'"
      ],
      "execution_count": 8,
      "outputs": [
        {
          "output_type": "stream",
          "text": [
            "Archive:  /content/drive/MyDrive/cw/glove.6B.zip\n",
            "  inflating: glove.6B.50d.txt        \n",
            "  inflating: glove.6B.100d.txt       \n",
            "  inflating: glove.6B.200d.txt       \n",
            "  inflating: glove.6B.300d.txt       \n"
          ],
          "name": "stdout"
        }
      ]
    },
    {
      "cell_type": "markdown",
      "metadata": {
        "id": "yd1-94s1MMgw"
      },
      "source": [
        "## Download and install Transformers library"
      ]
    },
    {
      "cell_type": "code",
      "metadata": {
        "id": "rTEI9ZFUwt0g",
        "colab": {
          "base_uri": "https://localhost:8080/"
        },
        "outputId": "8f40242b-8a35-4d52-b2d9-fe478cc7562a"
      },
      "source": [
        "!pip install transformers"
      ],
      "execution_count": 9,
      "outputs": [
        {
          "output_type": "stream",
          "text": [
            "Collecting transformers\n",
            "\u001b[?25l  Downloading https://files.pythonhosted.org/packages/98/87/ef312eef26f5cecd8b17ae9654cdd8d1fae1eb6dbd87257d6d73c128a4d0/transformers-4.3.2-py3-none-any.whl (1.8MB)\n",
            "\u001b[K     |████████████████████████████████| 1.8MB 8.3MB/s \n",
            "\u001b[?25hRequirement already satisfied: numpy>=1.17 in /usr/local/lib/python3.6/dist-packages (from transformers) (1.19.5)\n",
            "Requirement already satisfied: filelock in /usr/local/lib/python3.6/dist-packages (from transformers) (3.0.12)\n",
            "Requirement already satisfied: regex!=2019.12.17 in /usr/local/lib/python3.6/dist-packages (from transformers) (2019.12.20)\n",
            "Requirement already satisfied: tqdm>=4.27 in /usr/local/lib/python3.6/dist-packages (from transformers) (4.41.1)\n",
            "Requirement already satisfied: requests in /usr/local/lib/python3.6/dist-packages (from transformers) (2.23.0)\n",
            "Requirement already satisfied: importlib-metadata; python_version < \"3.8\" in /usr/local/lib/python3.6/dist-packages (from transformers) (3.4.0)\n",
            "Requirement already satisfied: packaging in /usr/local/lib/python3.6/dist-packages (from transformers) (20.9)\n",
            "Collecting sacremoses\n",
            "\u001b[?25l  Downloading https://files.pythonhosted.org/packages/7d/34/09d19aff26edcc8eb2a01bed8e98f13a1537005d31e95233fd48216eed10/sacremoses-0.0.43.tar.gz (883kB)\n",
            "\u001b[K     |████████████████████████████████| 890kB 45.1MB/s \n",
            "\u001b[?25hCollecting tokenizers<0.11,>=0.10.1\n",
            "\u001b[?25l  Downloading https://files.pythonhosted.org/packages/fd/5b/44baae602e0a30bcc53fbdbc60bd940c15e143d252d658dfdefce736ece5/tokenizers-0.10.1-cp36-cp36m-manylinux2010_x86_64.whl (3.2MB)\n",
            "\u001b[K     |████████████████████████████████| 3.2MB 54.3MB/s \n",
            "\u001b[?25hRequirement already satisfied: dataclasses; python_version < \"3.7\" in /usr/local/lib/python3.6/dist-packages (from transformers) (0.8)\n",
            "Requirement already satisfied: certifi>=2017.4.17 in /usr/local/lib/python3.6/dist-packages (from requests->transformers) (2020.12.5)\n",
            "Requirement already satisfied: urllib3!=1.25.0,!=1.25.1,<1.26,>=1.21.1 in /usr/local/lib/python3.6/dist-packages (from requests->transformers) (1.24.3)\n",
            "Requirement already satisfied: idna<3,>=2.5 in /usr/local/lib/python3.6/dist-packages (from requests->transformers) (2.10)\n",
            "Requirement already satisfied: chardet<4,>=3.0.2 in /usr/local/lib/python3.6/dist-packages (from requests->transformers) (3.0.4)\n",
            "Requirement already satisfied: zipp>=0.5 in /usr/local/lib/python3.6/dist-packages (from importlib-metadata; python_version < \"3.8\"->transformers) (3.4.0)\n",
            "Requirement already satisfied: typing-extensions>=3.6.4; python_version < \"3.8\" in /usr/local/lib/python3.6/dist-packages (from importlib-metadata; python_version < \"3.8\"->transformers) (3.7.4.3)\n",
            "Requirement already satisfied: pyparsing>=2.0.2 in /usr/local/lib/python3.6/dist-packages (from packaging->transformers) (2.4.7)\n",
            "Requirement already satisfied: six in /usr/local/lib/python3.6/dist-packages (from sacremoses->transformers) (1.15.0)\n",
            "Requirement already satisfied: click in /usr/local/lib/python3.6/dist-packages (from sacremoses->transformers) (7.1.2)\n",
            "Requirement already satisfied: joblib in /usr/local/lib/python3.6/dist-packages (from sacremoses->transformers) (1.0.0)\n",
            "Building wheels for collected packages: sacremoses\n",
            "  Building wheel for sacremoses (setup.py) ... \u001b[?25l\u001b[?25hdone\n",
            "  Created wheel for sacremoses: filename=sacremoses-0.0.43-cp36-none-any.whl size=893261 sha256=642f6c5a25d643eb38834055aa8a78ecca60e8c7ca69060ff5c22919bd1ad71f\n",
            "  Stored in directory: /root/.cache/pip/wheels/29/3c/fd/7ce5c3f0666dab31a50123635e6fb5e19ceb42ce38d4e58f45\n",
            "Successfully built sacremoses\n",
            "Installing collected packages: sacremoses, tokenizers, transformers\n",
            "Successfully installed sacremoses-0.0.43 tokenizers-0.10.1 transformers-4.3.2\n"
          ],
          "name": "stdout"
        }
      ]
    },
    {
      "cell_type": "markdown",
      "metadata": {
        "id": "2ErHEDpRMfSv"
      },
      "source": [
        "## Training Evaluation Utility Functions"
      ]
    },
    {
      "cell_type": "code",
      "metadata": {
        "id": "iZKyXkuFm6y5"
      },
      "source": [
        "# We define our training loop\n",
        "def train(train_iter, dev_iter, model, number_epoch, optimizer, scheduler=None):\n",
        "    \"\"\"\n",
        "    Training loop for the model, which calls on eval to evaluate after each epoch\n",
        "    \"\"\"\n",
        "\n",
        "    print(\"Training model.\")\n",
        "\n",
        "    for epoch in range(1, number_epoch+1):\n",
        "        \n",
        "        model.train()\n",
        "        \n",
        "        epoch_loss = 0\n",
        "        epoch_correct = 0\n",
        "        no_observations = 0  # Observations used for training so far\n",
        "\n",
        "        for batch in train_iter:\n",
        "            feature, target = batch\n",
        "            feature, target = feature.to(device), target.to(device)\n",
        "\n",
        "            # for RNN:\n",
        "            model.batch_size = target.shape[0]\n",
        "            no_observations = no_observations + target.shape[0]\n",
        "            # model.hidden = model.init_hidden()\n",
        "\n",
        "            predictions = model(feature).squeeze(1)\n",
        "            optimizer.zero_grad()\n",
        "            loss = loss_fn(predictions, target)\n",
        "\n",
        "            correct, __ = model_performance(np.argmax(predictions.detach().cpu().numpy(), axis=1), target.detach().cpu().numpy())\n",
        "\n",
        "            loss.backward()\n",
        "            optimizer.step()\n",
        "\n",
        "            if scheduler:\n",
        "              scheduler.step()\n",
        "\n",
        "            epoch_loss += loss.item()*target.shape[0]\n",
        "            epoch_correct += correct\n",
        "\n",
        "        valid_loss, valid_acc, __, __ = eval(dev_iter, model)\n",
        "\n",
        "        epoch_loss, epoch_acc = epoch_loss / no_observations, epoch_correct / no_observations\n",
        "        print(f'| Epoch: {epoch:02} | Train Loss: {epoch_loss:.2f} | Train Accuracy: {epoch_acc:.2f} | \\\n",
        "        Val. Loss: {valid_loss:.2f} | Val. Accuracy: {valid_acc:.2f} |')"
      ],
      "execution_count": 10,
      "outputs": []
    },
    {
      "cell_type": "code",
      "metadata": {
        "id": "BUmf4mSTm6y6"
      },
      "source": [
        "# We evaluate performance on our dev set\n",
        "def eval(data_iter, model):\n",
        "    \"\"\"\n",
        "    Evaluating model performance on the dev set\n",
        "    \"\"\"\n",
        "    model.eval()\n",
        "    epoch_loss = 0\n",
        "    epoch_correct = 0\n",
        "    pred_all = []\n",
        "    trg_all = []\n",
        "    no_observations = 0\n",
        "\n",
        "    with torch.no_grad():\n",
        "        for batch in data_iter:\n",
        "            feature, target = batch\n",
        "\n",
        "            feature, target = feature.to(device), target.to(device)\n",
        "            \n",
        "            # for RNN:\n",
        "            model.batch_size = target.shape[0]\n",
        "            no_observations = no_observations + target.shape[0]\n",
        "            # model.hidden = model.init_hidden()\n",
        "\n",
        "            predictions = model(feature).squeeze(1)\n",
        "            loss = loss_fn(predictions, target)\n",
        "\n",
        "            # We get the mse\n",
        "            pred, trg = predictions.detach().cpu().numpy(), target.detach().cpu().numpy()\n",
        "            correct, __ = model_performance(np.argmax(pred, axis=1), trg)\n",
        "\n",
        "            epoch_loss += loss.item()*target.shape[0]\n",
        "            epoch_correct += correct\n",
        "            pred_all.extend(pred)\n",
        "            trg_all.extend(trg)\n",
        "\n",
        "    return epoch_loss/no_observations, epoch_correct/no_observations, np.array(pred_all), np.array(trg_all)"
      ],
      "execution_count": 57,
      "outputs": []
    },
    {
      "cell_type": "code",
      "metadata": {
        "id": "Wre27ok7m6y7"
      },
      "source": [
        "# How we print the model performance\n",
        "def model_performance(output, target, print_output=False):\n",
        "    \"\"\"\n",
        "    Returns accuracy per batch, i.e. if you get 8/10 right, this returns 0.8, NOT 8\n",
        "    \"\"\"\n",
        "\n",
        "    correct_answers = (output == target)\n",
        "    correct = sum(correct_answers)\n",
        "    acc = np.true_divide(correct,len(output))\n",
        "\n",
        "    if print_output:\n",
        "        print(f'| Acc: {acc:.2f} ')\n",
        "\n",
        "    return correct, acc"
      ],
      "execution_count": 12,
      "outputs": []
    },
    {
      "cell_type": "code",
      "metadata": {
        "id": "GWsWCL8NNBR0"
      },
      "source": [
        "def eval_test(data_iter, model):\n",
        "    \"\"\"\n",
        "    Evaluating model performance on the dev set\n",
        "    \"\"\"\n",
        "    model.eval()\n",
        "\n",
        "    pred_all = []\n",
        "\n",
        "\n",
        "    with torch.no_grad():\n",
        "        for batch in data_iter:\n",
        "            \n",
        "            batch = batch.to(device)\n",
        "            # for RNN:\n",
        "            model.batch_size = batch.shape[1]\n",
        "\n",
        "            predictions = model(batch).squeeze(1)\n",
        "\n",
        "            pred = predictions.detach().cpu().numpy()\n",
        "\n",
        "            pred_all.extend(pred)\n",
        "\n",
        "    return np.array(pred_all)"
      ],
      "execution_count": 59,
      "outputs": []
    },
    {
      "cell_type": "markdown",
      "metadata": {
        "id": "_L9ZReWeMo7M"
      },
      "source": [
        "# Data augmentation and Vocab Preparation"
      ]
    },
    {
      "cell_type": "markdown",
      "metadata": {
        "id": "y2qnkCm2M5QK"
      },
      "source": [
        "## Data augmentation"
      ]
    },
    {
      "cell_type": "code",
      "metadata": {
        "id": "lkq5h2NF-VnS",
        "colab": {
          "base_uri": "https://localhost:8080/",
          "height": 204
        },
        "outputId": "caf506d2-69c8-49d5-ed46-504550d29664"
      },
      "source": [
        "import re\n",
        "\n",
        "def substitute(sentence, edit):\n",
        "  open_pos = sentence.find('<')\n",
        "  close_pos = sentence.find('>')\n",
        "  sub = sentence.replace(sentence[open_pos: close_pos + 1], edit)\n",
        "  return sub\n",
        "\n",
        "def get_edited_df(df, test=False):\n",
        "  id = df['id']\n",
        "  edited1 = df.apply(lambda x:substitute(x['original1'], x['edit1']), axis=1)\n",
        "  edited2 = df.apply(lambda x:substitute(x['original2'], x['edit2']), axis=1)\n",
        "  combined = list(zip(edited1,edited2))\n",
        "  if test:\n",
        "    id = df['id']\n",
        "    combined = list(zip(id,edited1,edited2))\n",
        "    return pd.DataFrame(combined, columns=['id','edited1', 'edited2'])\n",
        "  return pd.DataFrame(combined, columns=['edited1', 'edited2'])\n",
        "\n",
        "edited_train_df = get_edited_df(train_df)\n",
        "edited_test_df = get_edited_df(test_df, True)\n",
        "\n",
        "edited_train_df.head()\n",
        "# edited_test_df.head()\n"
      ],
      "execution_count": 14,
      "outputs": [
        {
          "output_type": "execute_result",
          "data": {
            "text/html": [
              "<div>\n",
              "<style scoped>\n",
              "    .dataframe tbody tr th:only-of-type {\n",
              "        vertical-align: middle;\n",
              "    }\n",
              "\n",
              "    .dataframe tbody tr th {\n",
              "        vertical-align: top;\n",
              "    }\n",
              "\n",
              "    .dataframe thead th {\n",
              "        text-align: right;\n",
              "    }\n",
              "</style>\n",
              "<table border=\"1\" class=\"dataframe\">\n",
              "  <thead>\n",
              "    <tr style=\"text-align: right;\">\n",
              "      <th></th>\n",
              "      <th>edited1</th>\n",
              "      <th>edited2</th>\n",
              "    </tr>\n",
              "  </thead>\n",
              "  <tbody>\n",
              "    <tr>\n",
              "      <th>0</th>\n",
              "      <td>\" Gene Cernan , Last Dancer on the Moon , Dies...</td>\n",
              "      <td>\" Gene Cernan , Last Astronaut on the Moon , i...</td>\n",
              "    </tr>\n",
              "    <tr>\n",
              "      <th>1</th>\n",
              "      <td>\" I 'm done \" : Fed up with California , some ...</td>\n",
              "      <td>\" I 'm done \" : Fed up with pancakes , some co...</td>\n",
              "    </tr>\n",
              "    <tr>\n",
              "      <th>2</th>\n",
              "      <td>\" I 'm done \" : Fed up with California , some ...</td>\n",
              "      <td>\" I 'm done \" : Fed up with life , some conser...</td>\n",
              "    </tr>\n",
              "    <tr>\n",
              "      <th>3</th>\n",
              "      <td>\" I 'm done \" : Fed up with pancakes , some co...</td>\n",
              "      <td>\" I 'm done \" : Fed up with life , some conser...</td>\n",
              "    </tr>\n",
              "    <tr>\n",
              "      <th>4</th>\n",
              "      <td>\" Our expectations of what civic engagement lo...</td>\n",
              "      <td>\" Our expectations of what civic engagement sm...</td>\n",
              "    </tr>\n",
              "  </tbody>\n",
              "</table>\n",
              "</div>"
            ],
            "text/plain": [
              "                                             edited1                                            edited2\n",
              "0  \" Gene Cernan , Last Dancer on the Moon , Dies...  \" Gene Cernan , Last Astronaut on the Moon , i...\n",
              "1  \" I 'm done \" : Fed up with California , some ...  \" I 'm done \" : Fed up with pancakes , some co...\n",
              "2  \" I 'm done \" : Fed up with California , some ...  \" I 'm done \" : Fed up with life , some conser...\n",
              "3  \" I 'm done \" : Fed up with pancakes , some co...  \" I 'm done \" : Fed up with life , some conser...\n",
              "4  \" Our expectations of what civic engagement lo...  \" Our expectations of what civic engagement sm..."
            ]
          },
          "metadata": {
            "tags": []
          },
          "execution_count": 14
        }
      ]
    },
    {
      "cell_type": "markdown",
      "metadata": {
        "id": "Pp28SsNZ5HQR"
      },
      "source": [
        "## Define Vocab Class\r\n",
        "\r\n",
        "TODO: probs move this up to top and have functions for using GLOVE, BERT and our own"
      ]
    },
    {
      "cell_type": "code",
      "metadata": {
        "id": "C3q9gLjl5TOq"
      },
      "source": [
        "class Vocabulary(object):\r\n",
        "  \"\"\"Data structure representing the vocabulary of a corpus.\"\"\"\r\n",
        "  def __init__(self):\r\n",
        "    # Mapping from tokens to integers\r\n",
        "    self._word2idx = {}\r\n",
        "\r\n",
        "    # Reverse-mapping from integers to tokens\r\n",
        "    self.idx2word = []\r\n",
        "\r\n",
        "  def word2idx(self, word, default=None):\r\n",
        "    \"\"\"Returns the integer ID of the word or default if not found.\"\"\"\r\n",
        "    return self._word2idx.get(word, default)\r\n",
        "\r\n",
        "  def add_word(self, word):\r\n",
        "    \"\"\"Adds the `word` into the vocabulary.\"\"\"\r\n",
        "    if word not in self._word2idx:\r\n",
        "      self.idx2word.append(word)\r\n",
        "      self._word2idx[word] = len(self.idx2word) - 1\r\n",
        "\r\n",
        "  def build_from_list(self, words):\r\n",
        "    for word in words:\r\n",
        "      self.add_word(word)\r\n",
        "\r\n",
        "  def build_from_file(self, fname):\r\n",
        "    \"\"\"Builds a vocabulary from a given corpus file.\"\"\"\r\n",
        "    with open(fname) as f:\r\n",
        "      for line in f:\r\n",
        "        words = line.strip().split()\r\n",
        "        for word in words:\r\n",
        "          self.add_word(word)\r\n",
        "\r\n",
        "  def convert_idxs_to_words(self, idxs):\r\n",
        "    \"\"\"Converts a list of indices to words.\"\"\"\r\n",
        "    return ' '.join(self.idx2word[idx] for idx in idxs)\r\n",
        "\r\n",
        "  def convert_words_to_idxs(self, words):\r\n",
        "    \"\"\"Converts a list of words to a list of indices.\"\"\"\r\n",
        "    return [self.word2idx(w) for w in words]\r\n",
        "\r\n",
        "  def __len__(self):\r\n",
        "    \"\"\"Returns the size of the vocabulary.\"\"\"\r\n",
        "    return len(self.idx2word)\r\n",
        "  \r\n",
        "  def __repr__(self):\r\n",
        "    return \"Vocabulary with {} items\".format(self.__len__())"
      ],
      "execution_count": 15,
      "outputs": []
    },
    {
      "cell_type": "markdown",
      "metadata": {
        "id": "Pbw3d6ZFM8_E"
      },
      "source": [
        "## Vocab Preparation"
      ]
    },
    {
      "cell_type": "code",
      "metadata": {
        "id": "Zub4c6BJm6y8"
      },
      "source": [
        "# To create our vocab (TODO: and return Vocabulary object)\n",
        "def create_vocab(data):\n",
        "    \"\"\"\n",
        "    Creating a corpus of all the tokens used\n",
        "    \"\"\"\n",
        "    tokenized_corpus = [] # Let us put the tokenized corpus in a list\n",
        "\n",
        "    for sentence_pair in data:\n",
        "        tokenized_sentence_pair = []\n",
        "        for sentence in sentence_pair:\n",
        "            tokenized_sentence = []\n",
        "\n",
        "            for token in sentence.split(' '): # simplest split is\n",
        "\n",
        "                tokenized_sentence.append(token.lower())\n",
        "\n",
        "            tokenized_sentence_pair.append(tokenized_sentence)\n",
        "        tokenized_corpus.append(tokenized_sentence_pair)\n",
        "\n",
        "    # Create single list of all vocabulary\n",
        "    vocabulary = []  # Let us put all the tokens (mostly words) appearing in the vocabulary in a list\n",
        "\n",
        "    for sentence_pair in tokenized_corpus:\n",
        "\n",
        "        for sentence in sentence_pair:\n",
        "\n",
        "            for token in sentence:\n",
        "\n",
        "                if token.lower() not in vocabulary:\n",
        "\n",
        "                    vocabulary.append(token.lower())\n",
        "\n",
        "    return vocabulary, tokenized_corpus"
      ],
      "execution_count": 16,
      "outputs": []
    },
    {
      "cell_type": "markdown",
      "metadata": {
        "id": "mAXn8XWBNnTW"
      },
      "source": [
        "TODO: Potentially break up code blocks a bit more?"
      ]
    },
    {
      "cell_type": "code",
      "metadata": {
        "id": "Szdwn4PS-9_Y",
        "colab": {
          "base_uri": "https://localhost:8080/"
        },
        "outputId": "327f56c8-974e-4ddf-c0b8-7ff4e4fefc84"
      },
      "source": [
        "## Approach 1 code, using functions defined above:\n",
        "\n",
        "# We set our training data and test data\n",
        "training_data = edited_train_df.values.tolist()\n",
        "test_data = np.array(edited_test_df.values.tolist())[:,1:].tolist()\n",
        "\n",
        "# Creating word vectors\n",
        "training_vocab, training_tokenized_corpus = create_vocab(training_data)\n",
        "test_vocab, test_tokenized_corpus = create_vocab(test_data)\n",
        "\n",
        "# Creating joint vocab from test and train\n",
        "# TODO: We can optimise to just use the previous two:\n",
        "joint_vocab, joint_tokenized_corpus = create_vocab(training_data + test_data)\n",
        "\n",
        "print(\"Vocab created.\")"
      ],
      "execution_count": 17,
      "outputs": [
        {
          "output_type": "stream",
          "text": [
            "Vocab created.\n"
          ],
          "name": "stdout"
        }
      ]
    },
    {
      "cell_type": "markdown",
      "metadata": {
        "id": "qchTuXGrF0nb"
      },
      "source": [
        "The below code block loads in the GLOVE embeddings.\n",
        "TODO: We can move this into the Vocabulary class"
      ]
    },
    {
      "cell_type": "code",
      "metadata": {
        "id": "FGQJ_QNYFu_p"
      },
      "source": [
        "# We create representations for our tokens\n",
        "wvecs = [] # word vectors\n",
        "\n",
        "vocab = Vocabulary()\n",
        "# This is a large file, it will take a while to load in the memory!\n",
        "with codecs.open('glove.6B.300d.txt', 'r','utf-8') as f:\n",
        "  index = 1\n",
        "  for line in f.readlines():\n",
        "    # Ignore the first line - first line typically contains vocab, dimensionality\n",
        "    if len(line.strip().split()) > 3:\n",
        "      word = line.strip().split()[0]\n",
        "      if word in joint_vocab:\n",
        "          (word, vec) = (word,\n",
        "                     list(map(float,line.strip().split()[1:])))\n",
        "          wvecs.append(vec)\n",
        "          vocab.add_word(word)\n",
        "\n",
        "\n",
        "wvecs = np.array(wvecs)\n",
        "\n",
        "vectorized_seqs = [[[vocab.word2idx(tok) for tok in sen if tok in vocab._word2idx] for sen in seq] for seq in training_tokenized_corpus]\n",
        "vectorized_test = [[[vocab.word2idx(tok) for tok in sen if tok in vocab._word2idx] for sen in seq] for seq in test_tokenized_corpus]\n"
      ],
      "execution_count": 18,
      "outputs": []
    },
    {
      "cell_type": "markdown",
      "metadata": {
        "id": "RTQ_arcRNEjK"
      },
      "source": [
        "## Load the Dataset"
      ]
    },
    {
      "cell_type": "markdown",
      "metadata": {
        "id": "AHerrK5LNJbG"
      },
      "source": [
        "### Utility functions"
      ]
    },
    {
      "cell_type": "code",
      "metadata": {
        "id": "n1PYwPBfm6y9"
      },
      "source": [
        "# Used for collating our observations into minibatches:\n",
        "def collate_fn_padd(batch):\n",
        "    '''\n",
        "    We add padding to our minibatches and create tensors for our model\n",
        "    '''\n",
        "    \n",
        "    batch_labels = [l for f, l in batch]\n",
        "    batch_features = [f for f, l in batch]\n",
        "\n",
        "    batch_features_len = [[len(s) for s in f] for f, l in batch]\n",
        "\n",
        "    seq_tensor = torch.zeros((2, len(batch), np.max(batch_features_len))).long()\n",
        "\n",
        "    # Shape of seq_tensor is batch_size x max_feature_len\n",
        "    # It should be batch_size x 2 x max_feature_len\n",
        "\n",
        "    for idx, (seq, seqlens) in enumerate(zip(batch_features, batch_features_len)):\n",
        "        for i in range(2):\n",
        "            seq_tensor[i, idx, :seqlens[i]] = torch.LongTensor(seq[i])\n",
        "\n",
        "    batch_labels = torch.LongTensor(batch_labels)\n",
        "\n",
        "    return seq_tensor, batch_labels\n",
        "\n",
        "def collate_test(batch):\n",
        "    '''\n",
        "    We add padding to our minibatches and create tensors for our model\n",
        "    '''\n",
        "    \n",
        "    batch_features_len = [[len(s) for s in b] for b in batch]\n",
        "\n",
        "    seq_tensor = torch.zeros((2, len(batch), np.max(batch_features_len))).long()\n",
        "\n",
        "    # Shape of seq_tensor is batch_size x max_feature_len\n",
        "    # It should be batch_size x 2 x max_feature_len\n",
        "\n",
        "    for idx, (seq, seqlens) in enumerate(zip(batch, batch_features_len)):\n",
        "        for i in range(2):\n",
        "            seq_tensor[i, idx, :seqlens[i]] = torch.LongTensor(seq[i])\n",
        "\n",
        "    return seq_tensor\n",
        "\n",
        "def flip_label(label):\n",
        "  if label == 1:\n",
        "    return 2\n",
        "  elif label == 2:\n",
        "    return 1\n",
        "  else: \n",
        "    return label\n",
        "\n",
        "# We create a Dataset so we can create minibatches\n",
        "class Task2Dataset(Dataset):\n",
        "\n",
        "    def __init__(self, train_data, labels):\n",
        "        self.x_train = train_data\n",
        "        self.y_train = labels\n",
        "\n",
        "    def __len__(self):\n",
        "        return len(self.y_train)\n",
        "\n",
        "    def __getitem__(self, item):\n",
        "        return self.x_train[item], self.y_train[item]"
      ],
      "execution_count": 34,
      "outputs": []
    },
    {
      "cell_type": "markdown",
      "metadata": {
        "id": "WD5PF9bnYsRk"
      },
      "source": [
        "### Creating Dataloaders"
      ]
    },
    {
      "cell_type": "code",
      "metadata": {
        "id": "1yXQMGWHW_ti",
        "colab": {
          "base_uri": "https://localhost:8080/"
        },
        "outputId": "71ba62ee-462f-48ba-ac7a-639f32d5d852"
      },
      "source": [
        "BATCH_SIZE = 32\n",
        "train_proportion = 0.8\n",
        "\n",
        "feature = vectorized_seqs\n",
        "\n",
        "labels = list(train_df['label'])\n",
        "\n",
        "\n",
        "# 'feature' is a list of lists, each containing embedding IDs for word tokens\n",
        "train_and_dev = Task2Dataset(feature, labels)\n",
        "\n",
        "train_examples = round(len(train_and_dev)*train_proportion)\n",
        "dev_examples = len(train_and_dev) - train_examples\n",
        "\n",
        "train_dataset, dev_dataset = random_split(train_and_dev,\n",
        "                                           (train_examples,\n",
        "                                            dev_examples))\n",
        "test_dataset = vectorized_test\n",
        "\n",
        "# Add the reverse examples to the training set to create more training dara\n",
        "flipped_train_dataset = []\n",
        "for r in train_dataset:\n",
        "  flipped_train_dataset.append((list(reversed(r[0])), flip_label(r[1])))\n",
        "\n",
        "train_dataset += flipped_train_dataset\n",
        "\n",
        "train_loader = torch.utils.data.DataLoader(train_dataset, shuffle=True, batch_size=BATCH_SIZE, collate_fn=collate_fn_padd)\n",
        "dev_loader = torch.utils.data.DataLoader(dev_dataset, batch_size=BATCH_SIZE, collate_fn=collate_fn_padd)\n",
        "test_loader = torch.utils.data.DataLoader(test_dataset, batch_size=BATCH_SIZE, collate_fn=collate_test)\n",
        "\n",
        "print(\"Dataloaders created.\")"
      ],
      "execution_count": 35,
      "outputs": [
        {
          "output_type": "stream",
          "text": [
            "Dataloaders created.\n"
          ],
          "name": "stdout"
        }
      ]
    },
    {
      "cell_type": "markdown",
      "metadata": {
        "id": "EvXJ20y4m6y4"
      },
      "source": [
        "# Approach 1: Using pre-trained representations"
      ]
    },
    {
      "cell_type": "markdown",
      "metadata": {
        "id": "_SiCAvnONQCO"
      },
      "source": [
        "## Using pre-trained embeddings with a BiLSTM model"
      ]
    },
    {
      "cell_type": "code",
      "metadata": {
        "id": "aYyl1tpwm6y-"
      },
      "source": [
        "class BiLSTM_classification(nn.Module):\n",
        "\n",
        "    def __init__(self, embedding_dim, hidden_dim, vocab_size, batch_size, device):\n",
        "        super(BiLSTM_classification, self).__init__()\n",
        "        self.hidden_dim = hidden_dim\n",
        "        self.embedding_dim = embedding_dim\n",
        "        self.device = device\n",
        "        self.batch_size = batch_size\n",
        "        self.embedding = nn.Embedding(vocab_size, embedding_dim, padding_idx=0)\n",
        "\n",
        "        # The LSTM takes word embeddings as inputs, and outputs hidden states\n",
        "        # with dimensionality hidden_dim.\n",
        "        self.lstm = nn.LSTM(embedding_dim, hidden_dim, bidirectional=True)\n",
        "\n",
        "        # The linear layer that maps from hidden state space to tag space\n",
        "        self.hidden2label = nn.Linear(hidden_dim * 4, 3)\n",
        "        # self.hidden1 = self.init_hidden()\n",
        "        # self.hidden2 = self.init_hidden()\n",
        "\n",
        "    def init_hidden(self):\n",
        "        # Before we've done anything, we dont have any hidden state.\n",
        "        # Refer to the Pytorch documentation to see exactly why they have this dimensionality.\n",
        "        # The axes semantics are (num_layers * num_directions, minibatch_size, hidden_dim)\n",
        "        return torch.zeros(2, self.batch_size, self.hidden_dim).to(self.device), \\\n",
        "               torch.zeros(2, self.batch_size, self.hidden_dim).to(self.device)\n",
        "\n",
        "    def forward(self, sentence):\n",
        "        embedding1 = self.embedding(sentence[0])\n",
        "        embedding1 = embedding1.permute(1, 0, 2)\n",
        "\n",
        "        embedding2 = self.embedding(sentence[1])\n",
        "        embedding2 = embedding2.permute(1, 0, 2)\n",
        "\n",
        "        lstm_out_1, _ = self.lstm(embedding1.view(len(embedding1), self.batch_size, self.embedding_dim))\n",
        "        lstm_out_2, _ = self.lstm(embedding2.view(len(embedding2), self.batch_size, self.embedding_dim))\n",
        "        # concat both lstm_out_1 and lstm_out_2 and give to our linear layer, think we need\n",
        "        # output shape of lstm_ out is 2 * hidden_size as we do it in both directions\n",
        " \n",
        "        # lstm_out_1[-1] are both batch_size x (2 * hidden_size)\n",
        "        # do we concat so it's (2*batch_size) x (2 * hidden_size) or batch_size x (2*(2 * hidden_size))? - I chose the latter\n",
        "        out = self.hidden2label(torch.cat((lstm_out_1[-1], lstm_out_2[-1]), 1))\n",
        "        return out"
      ],
      "execution_count": 21,
      "outputs": []
    },
    {
      "cell_type": "markdown",
      "metadata": {
        "id": "PZNzwrdrOFAq"
      },
      "source": [
        "TODO: Separate out dataset stuff and model stuff below and put data loading stuff in section above. "
      ]
    },
    {
      "cell_type": "code",
      "metadata": {
        "id": "XJtG2gnyD5AU",
        "colab": {
          "base_uri": "https://localhost:8080/"
        },
        "outputId": "b156cef8-4bf8-42b5-eff1-48ae7d19d2e1"
      },
      "source": [
        "# Number of epochs\n",
        "epochs = 16\n",
        "\n",
        "INPUT_DIM = len(vocab) + 1\n",
        "HIDDEN_DIM = 400 # Higher appears to yield better val acc\n",
        "EMBEDDING_DIM = 300 # Higher yields better val acc\n",
        "BATCH_SIZE = 32\n",
        "\n",
        "device = 'cuda'\n",
        "## TODO: Figure out network dimensions\n",
        "model = BiLSTM_classification(EMBEDDING_DIM, HIDDEN_DIM, INPUT_DIM, BATCH_SIZE, device)\n",
        "print(\"Model initialised.\")\n",
        "\n",
        "model.to(device)\n",
        "# We provide the model with our embeddings\n",
        "model.embedding.weight.data[1:].copy_(torch.from_numpy(wvecs))\n"
      ],
      "execution_count": 22,
      "outputs": [
        {
          "output_type": "stream",
          "text": [
            "Model initialised.\n"
          ],
          "name": "stdout"
        },
        {
          "output_type": "execute_result",
          "data": {
            "text/plain": [
              "tensor([[ 0.0466,  0.2132, -0.0074,  ...,  0.0091, -0.2099,  0.0539],\n",
              "        [-0.2554, -0.2572,  0.1317,  ..., -0.2329, -0.1223,  0.3550],\n",
              "        [-0.1256,  0.0136,  0.1031,  ..., -0.3422, -0.0224,  0.1368],\n",
              "        ...,\n",
              "        [ 0.5028, -0.1677,  0.0193,  ...,  0.4927,  0.6148,  0.0180],\n",
              "        [ 0.1070, -0.0379,  0.2672,  ...,  0.2112,  0.3525,  0.1777],\n",
              "        [-0.1868, -0.2897, -0.0846,  ...,  0.2076,  0.5071,  0.3187]],\n",
              "       device='cuda:0')"
            ]
          },
          "metadata": {
            "tags": []
          },
          "execution_count": 22
        }
      ]
    },
    {
      "cell_type": "code",
      "metadata": {
        "id": "AtHLpfiYm6zA",
        "colab": {
          "base_uri": "https://localhost:8080/",
          "height": 1000
        },
        "outputId": "3b5a4f04-8432-42fd-e738-874c575144cf"
      },
      "source": [
        "loss_fn = nn.CrossEntropyLoss()\n",
        "loss_fn = loss_fn.to(device)\n",
        "\n",
        "optimizer = torch.optim.Adam(model.parameters())\n",
        "\n",
        "train(train_loader, dev_loader, model, epochs, optimizer)"
      ],
      "execution_count": 58,
      "outputs": [
        {
          "output_type": "stream",
          "text": [
            "Training model.\n",
            "torch.Size([2, 32, 20])\n",
            "t\n",
            "torch.Size([32])\n",
            "torch.Size([2, 32, 20])\n",
            "t\n",
            "torch.Size([32])\n",
            "torch.Size([2, 32, 24])\n",
            "t\n",
            "torch.Size([32])\n",
            "torch.Size([2, 32, 25])\n",
            "t\n",
            "torch.Size([32])\n",
            "torch.Size([2, 32, 21])\n",
            "t\n",
            "torch.Size([32])\n",
            "torch.Size([2, 32, 19])\n",
            "t\n",
            "torch.Size([32])\n",
            "torch.Size([2, 32, 24])\n",
            "t\n",
            "torch.Size([32])\n",
            "torch.Size([2, 32, 23])\n",
            "t\n",
            "torch.Size([32])\n",
            "torch.Size([2, 32, 18])\n",
            "t\n",
            "torch.Size([32])\n",
            "torch.Size([2, 32, 20])\n",
            "t\n",
            "torch.Size([32])\n",
            "torch.Size([2, 32, 21])\n",
            "t\n",
            "torch.Size([32])\n",
            "torch.Size([2, 32, 20])\n",
            "t\n",
            "torch.Size([32])\n",
            "torch.Size([2, 32, 22])\n",
            "t\n",
            "torch.Size([32])\n",
            "torch.Size([2, 32, 20])\n",
            "t\n",
            "torch.Size([32])\n",
            "torch.Size([2, 32, 19])\n",
            "t\n",
            "torch.Size([32])\n",
            "torch.Size([2, 32, 20])\n",
            "t\n",
            "torch.Size([32])\n",
            "torch.Size([2, 32, 22])\n",
            "t\n",
            "torch.Size([32])\n",
            "torch.Size([2, 32, 20])\n",
            "t\n",
            "torch.Size([32])\n",
            "torch.Size([2, 32, 22])\n",
            "t\n",
            "torch.Size([32])\n",
            "torch.Size([2, 32, 23])\n",
            "t\n",
            "torch.Size([32])\n",
            "torch.Size([2, 32, 23])\n",
            "t\n",
            "torch.Size([32])\n",
            "torch.Size([2, 32, 20])\n",
            "t\n",
            "torch.Size([32])\n",
            "torch.Size([2, 32, 22])\n",
            "t\n",
            "torch.Size([32])\n",
            "torch.Size([2, 32, 20])\n",
            "t\n",
            "torch.Size([32])\n",
            "torch.Size([2, 32, 18])\n",
            "t\n",
            "torch.Size([32])\n",
            "torch.Size([2, 32, 19])\n",
            "t\n",
            "torch.Size([32])\n",
            "torch.Size([2, 32, 20])\n",
            "t\n",
            "torch.Size([32])\n",
            "torch.Size([2, 32, 18])\n",
            "t\n",
            "torch.Size([32])\n",
            "torch.Size([2, 32, 20])\n",
            "t\n",
            "torch.Size([32])\n",
            "torch.Size([2, 32, 19])\n",
            "t\n",
            "torch.Size([32])\n",
            "torch.Size([2, 32, 19])\n",
            "t\n",
            "torch.Size([32])\n",
            "torch.Size([2, 32, 18])\n",
            "t\n",
            "torch.Size([32])\n",
            "torch.Size([2, 32, 22])\n",
            "t\n",
            "torch.Size([32])\n",
            "torch.Size([2, 32, 20])\n",
            "t\n",
            "torch.Size([32])\n",
            "torch.Size([2, 32, 23])\n",
            "t\n",
            "torch.Size([32])\n",
            "torch.Size([2, 32, 18])\n",
            "t\n",
            "torch.Size([32])\n",
            "torch.Size([2, 32, 19])\n",
            "t\n",
            "torch.Size([32])\n",
            "torch.Size([2, 32, 22])\n",
            "t\n",
            "torch.Size([32])\n",
            "torch.Size([2, 32, 20])\n",
            "t\n",
            "torch.Size([32])\n",
            "torch.Size([2, 32, 21])\n",
            "t\n",
            "torch.Size([32])\n",
            "torch.Size([2, 32, 20])\n",
            "t\n",
            "torch.Size([32])\n",
            "torch.Size([2, 32, 21])\n",
            "t\n",
            "torch.Size([32])\n",
            "torch.Size([2, 32, 20])\n",
            "t\n",
            "torch.Size([32])\n",
            "torch.Size([2, 32, 22])\n",
            "t\n",
            "torch.Size([32])\n",
            "torch.Size([2, 32, 19])\n",
            "t\n",
            "torch.Size([32])\n",
            "torch.Size([2, 32, 21])\n",
            "t\n",
            "torch.Size([32])\n",
            "torch.Size([2, 32, 19])\n",
            "t\n",
            "torch.Size([32])\n",
            "torch.Size([2, 32, 21])\n",
            "t\n",
            "torch.Size([32])\n",
            "torch.Size([2, 32, 19])\n",
            "t\n",
            "torch.Size([32])\n",
            "torch.Size([2, 32, 24])\n",
            "t\n",
            "torch.Size([32])\n",
            "torch.Size([2, 32, 20])\n",
            "t\n",
            "torch.Size([32])\n",
            "torch.Size([2, 32, 18])\n",
            "t\n",
            "torch.Size([32])\n",
            "torch.Size([2, 32, 22])\n",
            "t\n",
            "torch.Size([32])\n",
            "torch.Size([2, 32, 25])\n",
            "t\n",
            "torch.Size([32])\n",
            "torch.Size([2, 32, 20])\n",
            "t\n",
            "torch.Size([32])\n",
            "torch.Size([2, 32, 20])\n",
            "t\n",
            "torch.Size([32])\n",
            "torch.Size([2, 32, 20])\n",
            "t\n",
            "torch.Size([32])\n",
            "torch.Size([2, 32, 22])\n",
            "t\n",
            "torch.Size([32])\n",
            "torch.Size([2, 20, 19])\n",
            "t\n",
            "torch.Size([20])\n",
            "| Epoch: 01 | Train Loss: 0.06 | Train Accuracy: 0.98 |         Val. Loss: 0.59 | Val. Accuracy: 0.89 |\n"
          ],
          "name": "stdout"
        },
        {
          "output_type": "error",
          "ename": "KeyboardInterrupt",
          "evalue": "ignored",
          "traceback": [
            "\u001b[0;31m---------------------------------------------------------------------------\u001b[0m",
            "\u001b[0;31mKeyboardInterrupt\u001b[0m                         Traceback (most recent call last)",
            "\u001b[0;32m<ipython-input-58-cc63044e6894>\u001b[0m in \u001b[0;36m<module>\u001b[0;34m()\u001b[0m\n\u001b[1;32m      4\u001b[0m \u001b[0moptimizer\u001b[0m \u001b[0;34m=\u001b[0m \u001b[0mtorch\u001b[0m\u001b[0;34m.\u001b[0m\u001b[0moptim\u001b[0m\u001b[0;34m.\u001b[0m\u001b[0mAdam\u001b[0m\u001b[0;34m(\u001b[0m\u001b[0mmodel\u001b[0m\u001b[0;34m.\u001b[0m\u001b[0mparameters\u001b[0m\u001b[0;34m(\u001b[0m\u001b[0;34m)\u001b[0m\u001b[0;34m)\u001b[0m\u001b[0;34m\u001b[0m\u001b[0;34m\u001b[0m\u001b[0m\n\u001b[1;32m      5\u001b[0m \u001b[0;34m\u001b[0m\u001b[0m\n\u001b[0;32m----> 6\u001b[0;31m \u001b[0mtrain\u001b[0m\u001b[0;34m(\u001b[0m\u001b[0mtrain_loader\u001b[0m\u001b[0;34m,\u001b[0m \u001b[0mdev_loader\u001b[0m\u001b[0;34m,\u001b[0m \u001b[0mmodel\u001b[0m\u001b[0;34m,\u001b[0m \u001b[0mepochs\u001b[0m\u001b[0;34m,\u001b[0m \u001b[0moptimizer\u001b[0m\u001b[0;34m)\u001b[0m\u001b[0;34m\u001b[0m\u001b[0;34m\u001b[0m\u001b[0m\n\u001b[0m",
            "\u001b[0;32m<ipython-input-10-7db4f1dad6cd>\u001b[0m in \u001b[0;36mtrain\u001b[0;34m(train_iter, dev_iter, model, number_epoch, optimizer, scheduler)\u001b[0m\n\u001b[1;32m     30\u001b[0m             \u001b[0mcorrect\u001b[0m\u001b[0;34m,\u001b[0m \u001b[0m__\u001b[0m \u001b[0;34m=\u001b[0m \u001b[0mmodel_performance\u001b[0m\u001b[0;34m(\u001b[0m\u001b[0mnp\u001b[0m\u001b[0;34m.\u001b[0m\u001b[0margmax\u001b[0m\u001b[0;34m(\u001b[0m\u001b[0mpredictions\u001b[0m\u001b[0;34m.\u001b[0m\u001b[0mdetach\u001b[0m\u001b[0;34m(\u001b[0m\u001b[0;34m)\u001b[0m\u001b[0;34m.\u001b[0m\u001b[0mcpu\u001b[0m\u001b[0;34m(\u001b[0m\u001b[0;34m)\u001b[0m\u001b[0;34m.\u001b[0m\u001b[0mnumpy\u001b[0m\u001b[0;34m(\u001b[0m\u001b[0;34m)\u001b[0m\u001b[0;34m,\u001b[0m \u001b[0maxis\u001b[0m\u001b[0;34m=\u001b[0m\u001b[0;36m1\u001b[0m\u001b[0;34m)\u001b[0m\u001b[0;34m,\u001b[0m \u001b[0mtarget\u001b[0m\u001b[0;34m.\u001b[0m\u001b[0mdetach\u001b[0m\u001b[0;34m(\u001b[0m\u001b[0;34m)\u001b[0m\u001b[0;34m.\u001b[0m\u001b[0mcpu\u001b[0m\u001b[0;34m(\u001b[0m\u001b[0;34m)\u001b[0m\u001b[0;34m.\u001b[0m\u001b[0mnumpy\u001b[0m\u001b[0;34m(\u001b[0m\u001b[0;34m)\u001b[0m\u001b[0;34m)\u001b[0m\u001b[0;34m\u001b[0m\u001b[0;34m\u001b[0m\u001b[0m\n\u001b[1;32m     31\u001b[0m \u001b[0;34m\u001b[0m\u001b[0m\n\u001b[0;32m---> 32\u001b[0;31m             \u001b[0mloss\u001b[0m\u001b[0;34m.\u001b[0m\u001b[0mbackward\u001b[0m\u001b[0;34m(\u001b[0m\u001b[0;34m)\u001b[0m\u001b[0;34m\u001b[0m\u001b[0;34m\u001b[0m\u001b[0m\n\u001b[0m\u001b[1;32m     33\u001b[0m             \u001b[0moptimizer\u001b[0m\u001b[0;34m.\u001b[0m\u001b[0mstep\u001b[0m\u001b[0;34m(\u001b[0m\u001b[0;34m)\u001b[0m\u001b[0;34m\u001b[0m\u001b[0;34m\u001b[0m\u001b[0m\n\u001b[1;32m     34\u001b[0m \u001b[0;34m\u001b[0m\u001b[0m\n",
            "\u001b[0;32m/usr/local/lib/python3.6/dist-packages/torch/tensor.py\u001b[0m in \u001b[0;36mbackward\u001b[0;34m(self, gradient, retain_graph, create_graph)\u001b[0m\n\u001b[1;32m    219\u001b[0m                 \u001b[0mretain_graph\u001b[0m\u001b[0;34m=\u001b[0m\u001b[0mretain_graph\u001b[0m\u001b[0;34m,\u001b[0m\u001b[0;34m\u001b[0m\u001b[0;34m\u001b[0m\u001b[0m\n\u001b[1;32m    220\u001b[0m                 create_graph=create_graph)\n\u001b[0;32m--> 221\u001b[0;31m         \u001b[0mtorch\u001b[0m\u001b[0;34m.\u001b[0m\u001b[0mautograd\u001b[0m\u001b[0;34m.\u001b[0m\u001b[0mbackward\u001b[0m\u001b[0;34m(\u001b[0m\u001b[0mself\u001b[0m\u001b[0;34m,\u001b[0m \u001b[0mgradient\u001b[0m\u001b[0;34m,\u001b[0m \u001b[0mretain_graph\u001b[0m\u001b[0;34m,\u001b[0m \u001b[0mcreate_graph\u001b[0m\u001b[0;34m)\u001b[0m\u001b[0;34m\u001b[0m\u001b[0;34m\u001b[0m\u001b[0m\n\u001b[0m\u001b[1;32m    222\u001b[0m \u001b[0;34m\u001b[0m\u001b[0m\n\u001b[1;32m    223\u001b[0m     \u001b[0;32mdef\u001b[0m \u001b[0mregister_hook\u001b[0m\u001b[0;34m(\u001b[0m\u001b[0mself\u001b[0m\u001b[0;34m,\u001b[0m \u001b[0mhook\u001b[0m\u001b[0;34m)\u001b[0m\u001b[0;34m:\u001b[0m\u001b[0;34m\u001b[0m\u001b[0;34m\u001b[0m\u001b[0m\n",
            "\u001b[0;32m/usr/local/lib/python3.6/dist-packages/torch/autograd/__init__.py\u001b[0m in \u001b[0;36mbackward\u001b[0;34m(tensors, grad_tensors, retain_graph, create_graph, grad_variables)\u001b[0m\n\u001b[1;32m    130\u001b[0m     Variable._execution_engine.run_backward(\n\u001b[1;32m    131\u001b[0m         \u001b[0mtensors\u001b[0m\u001b[0;34m,\u001b[0m \u001b[0mgrad_tensors_\u001b[0m\u001b[0;34m,\u001b[0m \u001b[0mretain_graph\u001b[0m\u001b[0;34m,\u001b[0m \u001b[0mcreate_graph\u001b[0m\u001b[0;34m,\u001b[0m\u001b[0;34m\u001b[0m\u001b[0;34m\u001b[0m\u001b[0m\n\u001b[0;32m--> 132\u001b[0;31m         allow_unreachable=True)  # allow_unreachable flag\n\u001b[0m\u001b[1;32m    133\u001b[0m \u001b[0;34m\u001b[0m\u001b[0m\n\u001b[1;32m    134\u001b[0m \u001b[0;34m\u001b[0m\u001b[0m\n",
            "\u001b[0;31mKeyboardInterrupt\u001b[0m: "
          ]
        }
      ]
    },
    {
      "cell_type": "code",
      "metadata": {
        "colab": {
          "base_uri": "https://localhost:8080/"
        },
        "id": "X2oL9RyRNRV-",
        "outputId": "f4e40921-e1c3-4a2f-e2aa-89dd3bb128d8"
      },
      "source": [
        "print(eval_test(test_loader, model))"
      ],
      "execution_count": 61,
      "outputs": [
        {
          "output_type": "stream",
          "text": [
            "[[  0.9702753    8.874647   -10.324966  ]\n",
            " [  0.43528712  10.418735   -11.475665  ]\n",
            " [  0.6876455    0.86039686  -1.8382757 ]\n",
            " ...\n",
            " [  1.2181811   -0.63369846  -0.69743764]\n",
            " [  1.323791    -0.19456615  -1.2981462 ]\n",
            " [  1.3764081   -0.17469896  -1.381371  ]]\n"
          ],
          "name": "stdout"
        }
      ]
    },
    {
      "cell_type": "markdown",
      "metadata": {
        "id": "XYAwjlV73uCE"
      },
      "source": [
        "## Fine-tuning BERT\n",
        "\n",
        "The following code is basically just an initial attempt to fine-tune BERT for the task. \n",
        "A good amount of the code here is either inspired by or, in the case of the training loop, literally taken from this link: \n",
        "https://github.com/aniruddhachoudhury/BERT-Tutorials/blob/master/Blog%202/BERT_Fine_Tuning_Sentence_Classification.ipynb\n",
        "\n",
        "I know it needs a refactor. I just want it to work. \n",
        "\n",
        "I think we could also try to take some inspiration from the following two resources: \n",
        "\n",
        "- https://medium.com/@theoliao1998/humor-detection-with-a-bert-regressor-9dc0a821c294\n",
        "- https://arxiv.org/pdf/2004.12765.pdf\n",
        "- https://github.com/ceshine/pytorch-pretrained-BERT/blob/master/notebooks/Next%20Sentence%20Prediction.ipynb"
      ]
    },
    {
      "cell_type": "code",
      "metadata": {
        "id": "JtykWoYywy34"
      },
      "source": [
        "from transformers import BertTokenizer, BertForSequenceClassification \n",
        "\n",
        "class HumourBert(nn.Module):\n",
        "    def __init__(self):\n",
        "        super().__init__()\n",
        "        self.bert = BertForSequenceClassification.from_pretrained(\n",
        "            'bert-base-uncased', \n",
        "            num_labels = 3,\n",
        "            output_attentions = False,\n",
        "            output_hidden_states = False\n",
        "        )\n",
        "    \n",
        "    def forward(self, feature):\n",
        "        b_input_ids = feature[0].to(device)\n",
        "        b_input_mask = feature[1].to(device)\n",
        "        outputs = self.bert(\n",
        "            b_input_ids, \n",
        "            token_type_ids=None, \n",
        "            attention_mask=b_input_mask\n",
        "        )\n",
        "        return outputs.logits\n",
        "\n",
        "\n",
        "model = HumourBert().to(device)\n",
        "tokenizer = BertTokenizer.from_pretrained('bert-base-uncased')\n"
      ],
      "execution_count": null,
      "outputs": []
    },
    {
      "cell_type": "code",
      "metadata": {
        "id": "19wLchAt1v7o"
      },
      "source": [
        "# We set our training data and test data\n",
        "training_data = edited_train_df.values.tolist()\n",
        "test_data = edited_test_df.values.tolist()\n",
        "\n",
        "training_labels = train_df['label'].values.tolist()"
      ],
      "execution_count": null,
      "outputs": []
    },
    {
      "cell_type": "code",
      "metadata": {
        "id": "Ohs4ENgsGwjv"
      },
      "source": [
        "input_ids = []\n",
        "\n",
        "# For every sentence pair, we create a single combined sentence with a separator token\n",
        "# After this loop, each pair becomes:\n",
        "#    [CLS] + encode(sentence1) + [SEP] + encode(sentence2) + [SEP]\n",
        "# CLS is a special token used by BERT for classification tasks\n",
        "# SEP is a special token used for separating sentences (I'm not sure if we need the one at the end)\n",
        "\n",
        "for (sentence1, sentence2) in training_data:\n",
        "    encoded_sentence1 = tokenizer.encode(sentence1)\n",
        "    encoded_sentence2 = tokenizer.encode(sentence2 + '[SEP]', add_special_tokens=False)\n",
        "    \n",
        "    # Add the encoded sentence to the list.\n",
        "    input_ids.append(encoded_sentence1 + encoded_sentence2)"
      ],
      "execution_count": null,
      "outputs": []
    },
    {
      "cell_type": "code",
      "metadata": {
        "id": "lQrCW-n9yIUj"
      },
      "source": [
        "from keras.preprocessing.sequence import pad_sequences\n",
        "\n",
        "# Set the maximum sequence length.\n",
        "# I've chosen 74 somewhat arbitrarily. It's slightly larger than the\n",
        "# maximum training sentence length of 72...\n",
        "MAX_LEN = 74\n",
        "\n",
        "print('\\nPadding/truncating all sentences to %d values...' % MAX_LEN)\n",
        "\n",
        "print('\\nPadding token: \"{:}\", ID: {:}'.format(tokenizer.pad_token, tokenizer.pad_token_id))\n",
        "\n",
        "# Pad our input tokens with value 0.\n",
        "# \"post\" indicates that we want to pad and truncate at the end of the sequence,\n",
        "# as opposed to the beginning.\n",
        "input_ids = pad_sequences(input_ids, maxlen=MAX_LEN, dtype=\"long\", \n",
        "                          value=0, truncating=\"post\", padding=\"post\")\n",
        "\n",
        "print('\\nDone.')\n",
        "attention_masks = []\n",
        "\n",
        "# For each sentence...\n",
        "for sent in input_ids:\n",
        "    \n",
        "    # Create the attention mask.\n",
        "    #   - If a token ID is 0, then it's padding, set the mask to 0.\n",
        "    #   - If a token ID is > 0, then it's a real token, set the mask to 1.\n",
        "    att_mask = [int(token_id > 0) for token_id in sent]\n",
        "    \n",
        "    # Store the attention mask for this sentence.\n",
        "    attention_masks.append(att_mask)"
      ],
      "execution_count": null,
      "outputs": []
    },
    {
      "cell_type": "code",
      "metadata": {
        "id": "8HfM4Od83qe2"
      },
      "source": [
        "# Used for collating our observations into minibatches:\n",
        "\n",
        "# Note that this one adds an attention mask (used to tell BERT to ignore padding)\n",
        "def collate_fn_padd_mask(batch):\n",
        "    '''\n",
        "    We add padding to our minibatches and create tensors for our model\n",
        "    '''\n",
        "    batch_labels = [l for f, l in batch]\n",
        "    batch_features = [f for f, l in batch]\n",
        "\n",
        "    batch_features_len = [len(f) for f, l in batch]\n",
        "\n",
        "    seq_tensor = torch.zeros((len(batch), max(batch_features_len))).long()\n",
        "    mask_tensor = torch.zeros((len(batch), max(batch_features_len))).long()\n",
        "\n",
        "    for idx, (seq, seqlen) in enumerate(zip(batch_features, batch_features_len)):\n",
        "        seq_tensor[idx, :seqlen] = torch.LongTensor(seq)\n",
        "        mask_tensor[idx, :seqlen] = torch.ones(seqlen)\n",
        "\n",
        "    batch_labels = torch.LongTensor(batch_labels)\n",
        "\n",
        "    # Put sequence and tensor together\n",
        "    feature_tensor = torch.stack([seq_tensor, mask_tensor])\n",
        "    \n",
        "    return feature_tensor, batch_labels"
      ],
      "execution_count": null,
      "outputs": []
    },
    {
      "cell_type": "code",
      "metadata": {
        "id": "TD6FY2Ue4NSK"
      },
      "source": [
        "train_and_dev = Task2Dataset(input_ids, training_labels)\n",
        "\n",
        "train_examples = round(len(train_and_dev)*train_proportion)\n",
        "dev_examples = len(train_and_dev) - train_examples\n",
        "\n",
        "train_dataset, dev_dataset = random_split(train_and_dev,\n",
        "                                           (train_examples,\n",
        "                                            dev_examples))\n",
        "# TODO: Duplicate labels for BERT input\n",
        "BATCH_SIZE = 32\n",
        "\n",
        "train_loader = torch.utils.data.DataLoader(train_dataset, shuffle=True, batch_size=BATCH_SIZE, collate_fn=collate_fn_padd_mask)\n",
        "dev_loader = torch.utils.data.DataLoader(dev_dataset, batch_size=BATCH_SIZE, collate_fn=collate_fn_padd_mask)\n",
        "print(\"Dataloaders created.\")"
      ],
      "execution_count": null,
      "outputs": []
    },
    {
      "cell_type": "code",
      "metadata": {
        "id": "FEub9iOq7Hol"
      },
      "source": [
        "optimizer = torch.optim.AdamW(model.parameters(),\n",
        "                  lr = 1e-5,\n",
        "                  eps = 1e-8\n",
        "                )\n",
        "from transformers import get_linear_schedule_with_warmup\n",
        "\n",
        "# Number of training epochs (authors recommend between 2 and 4)\n",
        "epochs = 16\n",
        "\n",
        "# Total number of training steps is number of batches * number of epochs.\n",
        "total_steps = len(train_loader) * epochs\n",
        "\n",
        "# Create the learning rate scheduler.\n",
        "scheduler = get_linear_schedule_with_warmup(optimizer, \n",
        "                                            num_warmup_steps = 0,\n",
        "                                            num_training_steps = total_steps)"
      ],
      "execution_count": null,
      "outputs": []
    },
    {
      "cell_type": "code",
      "metadata": {
        "id": "bwbvaZHVGUFo"
      },
      "source": [
        "loss_fn = nn.CrossEntropyLoss()\n",
        "loss_fn = loss_fn.to(device)\n",
        "\n",
        "train(train_loader, dev_loader, model, epochs, optimizer, scheduler)"
      ],
      "execution_count": null,
      "outputs": []
    },
    {
      "cell_type": "markdown",
      "metadata": {
        "id": "YXBhmuk_m6zD"
      },
      "source": [
        "# Approach 2: No pre-trained representations"
      ]
    },
    {
      "cell_type": "markdown",
      "metadata": {
        "id": "PigD29yW-UCI"
      },
      "source": [
        "TODO: Make code work with sentence pairs\r\n",
        "TODO: Can probably make below function part of Vocabulary()"
      ]
    },
    {
      "cell_type": "code",
      "metadata": {
        "id": "sBXV9Ess-Sdr"
      },
      "source": [
        "# def corpus_to_tensor(_vocab, corpus):\r\n",
        "#   # Final token indices\r\n",
        "#   idxs = []\r\n",
        "  \r\n",
        "#   for sent in corpus:\r\n",
        "#         sent = f\"<s> {line} </s>\"\r\n",
        "#         # Split from whitespace and add sentence markers\r\n",
        "#         idxs.extend(_vocab.convert_words_to_idxs(line.split()))\r\n",
        "#   return torch.LongTensor(idxs)"
      ],
      "execution_count": null,
      "outputs": []
    },
    {
      "cell_type": "markdown",
      "metadata": {
        "id": "b33Dsrx-2gho"
      },
      "source": [
        "## Create word-index mappings"
      ]
    },
    {
      "cell_type": "code",
      "metadata": {
        "id": "cdmmpE8G2rDW"
      },
      "source": [
        "vocab = Vocabulary()\r\n",
        "\r\n",
        "# 0-padding token\r\n",
        "vocab.add_word('<pad>')\r\n",
        "# sentence start\r\n",
        "vocab.add_word('<s>')\r\n",
        "# sentence end\r\n",
        "vocab.add_word('</s>')\r\n",
        "# Unknown words\r\n",
        "vocab.add_word('<unk>')\r\n",
        "vocab.build_from_list(joint_vocab)\r\n",
        "print(vocab)\r\n",
        "print(vocab.convert_words_to_idxs('the dancer is on the moon'.split()))"
      ],
      "execution_count": null,
      "outputs": []
    },
    {
      "cell_type": "markdown",
      "metadata": {
        "id": "yFIn7ZCNDwUr"
      },
      "source": [
        "## Prepare data\n",
        "TODO: Reduce duplication"
      ]
    },
    {
      "cell_type": "code",
      "metadata": {
        "id": "J-HqFrNGDzLF"
      },
      "source": [
        "vectorized_seqs = [[[vocab._word2idx[tok] for tok in sen if tok in vocab._word2idx] for sen in seq] for seq in training_tokenized_corpus]"
      ],
      "execution_count": null,
      "outputs": []
    },
    {
      "cell_type": "code",
      "metadata": {
        "id": "rcnsn3bfD7e_"
      },
      "source": [
        "BATCH_SIZE = 32\n",
        "train_proportion = 0.8\n",
        "\n",
        "feature = vectorized_seqs\n",
        "\n",
        "labels = list(train_df['label'])# + [(3.5*x)-(1.5*(x**2)) for x in train_df['label']]\n",
        "\n",
        "print(len(feature))\n",
        "print(len(labels))\n",
        "\n",
        "# 'feature' is a list of lists, each containing embedding IDs for word tokens\n",
        "train_and_dev = Task2Dataset(feature, labels)\n",
        "\n",
        "train_examples = round(len(train_and_dev)*train_proportion)\n",
        "dev_examples = len(train_and_dev) - train_examples\n",
        "\n",
        "train_dataset, dev_dataset = random_split(train_and_dev,\n",
        "                                           (train_examples,\n",
        "                                            dev_examples))\n",
        "\n",
        "train_loader = torch.utils.data.DataLoader(train_dataset, shuffle=True, batch_size=BATCH_SIZE, collate_fn=collate_fn_padd)\n",
        "dev_loader = torch.utils.data.DataLoader(dev_dataset, batch_size=BATCH_SIZE, collate_fn=collate_fn_padd)\n",
        "print(\"Dataloaders created.\")"
      ],
      "execution_count": null,
      "outputs": []
    },
    {
      "cell_type": "markdown",
      "metadata": {
        "id": "sVchsvzdCkNS"
      },
      "source": [
        "## Bi-LSTM model"
      ]
    },
    {
      "cell_type": "code",
      "metadata": {
        "id": "OX6tvWIPFJRl"
      },
      "source": [
        "# Number of epochs\n",
        "epochs = 16\n",
        "\n",
        "INPUT_DIM = len(vocab) + 1\n",
        "HIDDEN_DIM = 400 # Higher appears to yield better val acc\n",
        "EMBEDDING_DIM = 300 # Higher yields better val acc\n",
        "BATCH_SIZE = 32\n",
        "\n",
        "## TODO: Figure out network dimensions\n",
        "model = BiLSTM_classification(EMBEDDING_DIM, HIDDEN_DIM, INPUT_DIM, BATCH_SIZE, device)\n",
        "print(\"Model initialised.\")\n",
        "model.to(device)"
      ],
      "execution_count": null,
      "outputs": []
    },
    {
      "cell_type": "code",
      "metadata": {
        "id": "oW7vXWTpFOCB"
      },
      "source": [
        "loss_fn = nn.CrossEntropyLoss()\n",
        "loss_fn = loss_fn.to(device)\n",
        "\n",
        "optimizer = torch.optim.Adam(model.parameters())\n",
        "\n",
        "train(train_loader, dev_loader, model, epochs)"
      ],
      "execution_count": null,
      "outputs": []
    },
    {
      "cell_type": "markdown",
      "metadata": {
        "id": "7Xv8trAe3BoE"
      },
      "source": [
        "## LSTM model with attention\r\n",
        "\r\n",
        "Below code was inspired by the following:\r\n",
        "\r\n",
        "\r\n",
        "*   https://pytorch.org/tutorials/intermediate/seq2seq_translation_tutorial.html\r\n",
        "*   https://medium.com/intel-student-ambassadors/implementing-attention-models-in-pytorch-f947034b3e66\r\n",
        "* https://www.kaggle.com/yshubham/simple-lstm-for-text-classification-with-attention\r\n",
        "* https://iopscience.iop.org/article/10.1088/1742-6596/1207/1/012008\r\n",
        "\r\n",
        "\r\n",
        "\r\n",
        "\r\n"
      ]
    },
    {
      "cell_type": "code",
      "metadata": {
        "id": "feZdUAuqA11n"
      },
      "source": [
        "class AttnLSTM(nn.Module):\r\n",
        "  \r\n",
        "  def __init__(self, embedding_dim, hidden_dim, output_dim, vocab_size, dropout_prop=0.1):\r\n",
        "    super(AttnLSTM, self).__init__()\r\n",
        "    \r\n",
        "    self.embedding_dim = embedding_dim\r\n",
        "    self.hidden_dim = hidden_dimm\r\n",
        "    self.output_dim = output_dim\r\n",
        "    self.dropout_prop = dropout_prop\r\n",
        "    \r\n",
        "    self.embedding = nn.Embedding(\r\n",
        "      num_embeddings=self.vocab_size, embedding_dim=self.embedding_dim,\r\n",
        "      padding_idx=0)\r\n",
        "    self.attn = nn.Linear(embedding_dim + hidden_dim, 1)\r\n",
        "    self.dropout = nn.Dropout(self.dropout_prop)\r\n",
        "    self.hidden = self.init_hidden()\r\n",
        "\r\n",
        "    self.lstm = nn.LSTM(hidden_dim + vocab_size, output_size)\r\n",
        "    self.final = nn.Linear(hideen_dim, output_dim)\r\n",
        "  \r\n",
        "  def init_hidden(self):\r\n",
        "    return (torch.zeros(1, 1, self.output_size),\r\n",
        "      torch.zeros(1, 1, self.output_size))\r\n",
        "  \r\n",
        "  def forward(self, input, prev_out):\r\n",
        "    embedded = self.embedding(input).view(1, 1, -1)\r\n",
        "    embedded = self.dropout(embedded)\r\n",
        "\r\n",
        "    # Use MLP attention\r\n",
        "    attn_weights = F.softmax(\r\n",
        "            self.attn(torch.cat((embedded[0], self.hidden[0]), 1)), dim=1)\r\n",
        "    \r\n",
        "    # TODO: How tf does this work?\r\n",
        "    attn_applied = torch.bmm(attn_weights.unsqueeze(0), \r\n",
        "                             prev_out.view(1, -1, self.hidden_dim))\r\n",
        "    \r\n",
        "    lstm_in = torch.cat((attn_applied, embedded), dim = 1)\r\n",
        "    \r\n",
        "    output, self.hidden = self.lstm(lstm_in.unsqueeze(0), self.hidden)\r\n",
        "    \r\n",
        "    output = self.final(output)\r\n",
        "\r\n",
        "    ## TODO: What about softmax / sigmoid?\r\n",
        "    # output = F.log_softmax(self.out(output[0]), dim=1)\r\n",
        "    \r\n",
        "    return output"
      ],
      "execution_count": null,
      "outputs": []
    },
    {
      "cell_type": "markdown",
      "metadata": {
        "id": "MSpdX_Oc3KcB"
      },
      "source": [
        "## Training BERT from scratch\r\n",
        "\r\n",
        "following code adapted from:\r\n",
        "https://huggingface.co/blog/how-to-train\r\n",
        "\r\n",
        "Tokenizer docs: https://github.com/huggingface/tokenizers/tree/master/bindings/pythonhttps://github.com/huggingface/tokenizers/tree/master/bindings/python\r\n"
      ]
    },
    {
      "cell_type": "code",
      "metadata": {
        "id": "4Xd-KhVp8vje"
      },
      "source": [
        "# TODO: Move to top\r\n",
        "from tokenizers import ByteLevelBPETokenizer\r\n",
        "\r\n",
        "# Initialize a tokenizer\r\n",
        "tokenizer = ByteLevelBPETokenizer()\r\n",
        "\r\n",
        "# TODO: tokenize text with filepath? pass in train.csv? convert to txt?\r\n",
        "\r\n",
        "# Customize training\r\n",
        "tokenizer.train(files=paths, vocab_size=52_000, min_frequency=2, special_tokens=[\r\n",
        "    \"<s>\",\r\n",
        "    \"<pad>\",\r\n",
        "    \"</s>\",\r\n",
        "    \"<unk>\",\r\n",
        "    \"<mask>\",\r\n",
        "])\r\n",
        "\r\n",
        "# produces a vocab.json and a merges.txt"
      ],
      "execution_count": null,
      "outputs": []
    },
    {
      "cell_type": "code",
      "metadata": {
        "id": "psVmTb2fB-Xv"
      },
      "source": [
        "from transformers import BertForSequenceClassification, Trainer, TrainingArguments\r\n",
        "\r\n",
        "model = BertForSequenceClassification()\r\n",
        "\r\n",
        "training_args = TrainingArguments(\r\n",
        "    output_dir='./results',          # output directory\r\n",
        "    num_train_epochs=3,              # total # of training epochs\r\n",
        "    per_device_train_batch_size=16,  # batch size per device during training\r\n",
        "    per_device_eval_batch_size=64,   # batch size for evaluation\r\n",
        "    warmup_steps=500,                # number of warmup steps for learning rate scheduler\r\n",
        "    weight_decay=0.01,               # strength of weight decay\r\n",
        "    logging_dir='./logs',            # directory for storing logs\r\n",
        ")\r\n",
        "\r\n",
        "trainer = Trainer(\r\n",
        "    model=model,                         # the instantiated 🤗 Transformers model to be trained\r\n",
        "    args=training_args,                  # training arguments, defined above\r\n",
        "    train_dataset=train_dataset,         # training dataset\r\n",
        "    eval_dataset=test_dataset            # evaluation dataset\r\n",
        ")"
      ],
      "execution_count": null,
      "outputs": []
    },
    {
      "cell_type": "markdown",
      "metadata": {
        "id": "zAhN57qU2toN"
      },
      "source": [
        "## Pre-provided code for approach 2:"
      ]
    },
    {
      "cell_type": "code",
      "metadata": {
        "scrolled": true,
        "id": "V_l3AjbLm6zE"
      },
      "source": [
        "train_and_dev = train_df['edit1']\n",
        "\n",
        "training_data, dev_data, training_y, dev_y = train_test_split(train_df['edit1'], train_df['label'],\n",
        "                                                                        test_size=(1-train_proportion),\n",
        "                                                                        random_state=42)\n",
        "\n",
        "# We train a Tf-idf model\n",
        "count_vect = CountVectorizer(stop_words='english')\n",
        "train_counts = count_vect.fit_transform(training_data)\n",
        "transformer = TfidfTransformer().fit(train_counts)\n",
        "train_counts = transformer.transform(train_counts)\n",
        "naive_model = MultinomialNB().fit(train_counts, training_y)\n",
        "\n",
        "# Train predictions\n",
        "predicted_train = naive_model.predict(train_counts)\n",
        "\n",
        "# Calculate Tf-idf using train and dev, and validate on dev:\n",
        "test_and_test_counts = count_vect.transform(train_and_dev)\n",
        "transformer = TfidfTransformer().fit(test_and_test_counts)\n",
        "\n",
        "test_counts = count_vect.transform(dev_data)\n",
        "\n",
        "test_counts = transformer.transform(test_counts)\n",
        "\n",
        "# Dev predictions\n",
        "predicted = naive_model.predict(test_counts)\n",
        "\n",
        "# We run the evaluation:\n",
        "print(\"\\nTrain performance:\")\n",
        "\n",
        "sse, mse = model_performance(predicted_train, training_y, True)\n",
        "\n",
        "print(\"\\nDev performance:\")\n",
        "sse, mse = model_performance(predicted, dev_y, True)"
      ],
      "execution_count": null,
      "outputs": []
    },
    {
      "cell_type": "markdown",
      "metadata": {
        "id": "UpKDFO8ym6zE"
      },
      "source": [
        "#### Baseline for task 2"
      ]
    },
    {
      "cell_type": "code",
      "metadata": {
        "id": "RhcP7AD6m6zE"
      },
      "source": [
        "# Baseline for the task\n",
        "pred_baseline = torch.zeros(len(dev_y)) + 1  # 1 is most common class\n",
        "print(\"\\nBaseline performance:\")\n",
        "sse, mse = model_performance(pred_baseline, torch.tensor(dev_y.values), True)"
      ],
      "execution_count": null,
      "outputs": []
    }
  ]
}