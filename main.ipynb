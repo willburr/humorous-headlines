{
  "nbformat": 4,
  "nbformat_minor": 0,
  "metadata": {
    "kernelspec": {
      "display_name": "Python 3",
      "language": "python",
      "name": "python3"
    },
    "language_info": {
      "codemirror_mode": {
        "name": "ipython",
        "version": 3
      },
      "file_extension": ".py",
      "mimetype": "text/x-python",
      "name": "python",
      "nbconvert_exporter": "python",
      "pygments_lexer": "ipython3",
      "version": "3.7.1"
    },
    "colab": {
      "name": "main.ipynb",
      "provenance": [],
      "collapsed_sections": [],
      "toc_visible": true,
      "include_colab_link": true
    },
    "accelerator": "GPU"
  },
  "cells": [
    {
      "cell_type": "markdown",
      "metadata": {
        "id": "view-in-github",
        "colab_type": "text"
      },
      "source": [
        "<a href=\"https://colab.research.google.com/github/willburr/humorous-headlines/blob/main/main.ipynb\" target=\"_parent\"><img src=\"https://colab.research.google.com/assets/colab-badge.svg\" alt=\"Open In Colab\"/></a>"
      ]
    },
    {
      "cell_type": "markdown",
      "metadata": {
        "id": "XEewKMPzm6ys"
      },
      "source": [
        "### Coursework coding instructions (please also see full coursework spec)\n",
        "\n",
        "Please choose if you want to do either Task 1 or Task 2. You should write your report about one task only.\n",
        "\n",
        "For the task you choose you will need to do two approaches:\n",
        "  - Approach 1, which can use use pre-trained embeddings / models\n",
        "  - Approach 2, which should not use any pre-trained embeddings or models\n",
        "We should be able to run both approaches from the same colab file\n",
        "\n",
        "#### Running your code:\n",
        "  - Your models should run automatically when running your colab file without further intervention\n",
        "  - For each task you should automatically output the performance of both models\n",
        "  - Your code should automatically download any libraries required\n",
        "\n",
        "#### Structure of your code:\n",
        "  - You are expected to use the 'train', 'eval' and 'model_performance' functions, although you may edit these as required\n",
        "  - Otherwise there are no restrictions on what you can do in your code\n",
        "\n",
        "#### Documentation:\n",
        "  - You are expected to produce a .README file summarising how you have approached both tasks\n",
        "\n",
        "#### Reproducibility:\n",
        "  - Your .README file should explain how to replicate the different experiments mentioned in your report\n",
        "\n",
        "Good luck! We are really looking forward to seeing your reports and your model code!"
      ]
    },
    {
      "cell_type": "markdown",
      "metadata": {
        "id": "WSraR3PdJ2i9"
      },
      "source": [
        "# Project  Set-up\r\n",
        "\r\n",
        "The code blocks below provide the imports and set-up steps to run later sections. We import necessary libraries, set pytorch to use the GPU and set necessary seeds to add determinism."
      ]
    },
    {
      "cell_type": "code",
      "metadata": {
        "id": "gFcxAGnSm6y2",
        "colab": {
          "base_uri": "https://localhost:8080/"
        },
        "outputId": "321dc4e6-bf1f-4644-875d-029fb7f5138c"
      },
      "source": [
        "import torch\n",
        "import torch.nn as nn\n",
        "import pandas as pd\n",
        "import numpy as np\n",
        "import matplotlib.pyplot as plt\n",
        "from sklearn.feature_extraction.text import CountVectorizer\n",
        "from torch.utils.data import Dataset, random_split\n",
        "from sklearn.feature_extraction.text import TfidfTransformer\n",
        "from sklearn.model_selection import train_test_split\n",
        "from sklearn.naive_bayes import MultinomialNB\n",
        "import seaborn as sn\n",
        "from sklearn.metrics import balanced_accuracy_score, confusion_matrix, f1_score\n",
        "import torch.optim as optim\n",
        "import codecs\n",
        "import tqdm\n",
        "\n",
        "# Helper code to perform stopword removal\n",
        "!pip install nltk \n",
        "import nltk\n",
        "nltk.download('stopwords')\n",
        "from nltk.corpus import stopwords\n",
        "\n",
        "# Imports for use of BERT\n",
        "!pip install transformers\n",
        "from transformers import DistilBertTokenizer, DistilBertModel, DistilBertForSequenceClassification, get_linear_schedule_with_warmup"
      ],
      "execution_count": 1,
      "outputs": [
        {
          "output_type": "stream",
          "text": [
            "Requirement already satisfied: nltk in /usr/local/lib/python3.7/dist-packages (3.2.5)\n",
            "Requirement already satisfied: six in /usr/local/lib/python3.7/dist-packages (from nltk) (1.15.0)\n",
            "[nltk_data] Downloading package stopwords to /root/nltk_data...\n",
            "[nltk_data]   Package stopwords is already up-to-date!\n",
            "Requirement already satisfied: transformers in /usr/local/lib/python3.7/dist-packages (4.3.3)\n",
            "Requirement already satisfied: tokenizers<0.11,>=0.10.1 in /usr/local/lib/python3.7/dist-packages (from transformers) (0.10.1)\n",
            "Requirement already satisfied: importlib-metadata; python_version < \"3.8\" in /usr/local/lib/python3.7/dist-packages (from transformers) (3.7.0)\n",
            "Requirement already satisfied: filelock in /usr/local/lib/python3.7/dist-packages (from transformers) (3.0.12)\n",
            "Requirement already satisfied: packaging in /usr/local/lib/python3.7/dist-packages (from transformers) (20.9)\n",
            "Requirement already satisfied: sacremoses in /usr/local/lib/python3.7/dist-packages (from transformers) (0.0.43)\n",
            "Requirement already satisfied: regex!=2019.12.17 in /usr/local/lib/python3.7/dist-packages (from transformers) (2019.12.20)\n",
            "Requirement already satisfied: numpy>=1.17 in /usr/local/lib/python3.7/dist-packages (from transformers) (1.19.5)\n",
            "Requirement already satisfied: requests in /usr/local/lib/python3.7/dist-packages (from transformers) (2.23.0)\n",
            "Requirement already satisfied: tqdm>=4.27 in /usr/local/lib/python3.7/dist-packages (from transformers) (4.41.1)\n",
            "Requirement already satisfied: zipp>=0.5 in /usr/local/lib/python3.7/dist-packages (from importlib-metadata; python_version < \"3.8\"->transformers) (3.4.0)\n",
            "Requirement already satisfied: typing-extensions>=3.6.4; python_version < \"3.8\" in /usr/local/lib/python3.7/dist-packages (from importlib-metadata; python_version < \"3.8\"->transformers) (3.7.4.3)\n",
            "Requirement already satisfied: pyparsing>=2.0.2 in /usr/local/lib/python3.7/dist-packages (from packaging->transformers) (2.4.7)\n",
            "Requirement already satisfied: joblib in /usr/local/lib/python3.7/dist-packages (from sacremoses->transformers) (1.0.1)\n",
            "Requirement already satisfied: click in /usr/local/lib/python3.7/dist-packages (from sacremoses->transformers) (7.1.2)\n",
            "Requirement already satisfied: six in /usr/local/lib/python3.7/dist-packages (from sacremoses->transformers) (1.15.0)\n",
            "Requirement already satisfied: chardet<4,>=3.0.2 in /usr/local/lib/python3.7/dist-packages (from requests->transformers) (3.0.4)\n",
            "Requirement already satisfied: certifi>=2017.4.17 in /usr/local/lib/python3.7/dist-packages (from requests->transformers) (2020.12.5)\n",
            "Requirement already satisfied: idna<3,>=2.5 in /usr/local/lib/python3.7/dist-packages (from requests->transformers) (2.10)\n",
            "Requirement already satisfied: urllib3!=1.25.0,!=1.25.1,<1.26,>=1.21.1 in /usr/local/lib/python3.7/dist-packages (from requests->transformers) (1.24.3)\n"
          ],
          "name": "stdout"
        }
      ]
    },
    {
      "cell_type": "code",
      "metadata": {
        "id": "iM2SBsBzm6y3"
      },
      "source": [
        "# Setting random seed and device\n",
        "SEED = 1\n",
        "\n",
        "np.random.seed(SEED)\n",
        "torch.manual_seed(SEED)\n",
        "torch.cuda.manual_seed(SEED)\n",
        "torch.backends.cudnn.deterministic = True\n",
        "\n",
        "use_cuda = torch.cuda.is_available()\n",
        "device = torch.device(\"cuda:0\" if use_cuda else \"cpu\")"
      ],
      "execution_count": 2,
      "outputs": []
    },
    {
      "cell_type": "markdown",
      "metadata": {
        "id": "YVWAKu6ALaCL"
      },
      "source": [
        "## Downloading the data\n",
        "\n",
        "Here we download the data files, load them into pandas and examine the first few columns of the test dataset"
      ]
    },
    {
      "cell_type": "code",
      "metadata": {
        "id": "9AEMK9jQjem-",
        "colab": {
          "base_uri": "https://localhost:8080/"
        },
        "outputId": "a2f4df96-5559-4d01-bfbf-d69ce32bdd46"
      },
      "source": [
        "!wget -O train.csv https://drive.google.com/u/0/uc?id=1KS6Cxl4CJnSLkMcdgbnmEdsStlVzacWX&export=download\n",
        "!wget -O dev.csv https://drive.google.com/u/0/uc?id=19WKir5IRn83NMcVgvNDrmgcDj1UIv7kt&export=download\n",
        "!wget -O test.csv https://drive.google.com/u/0/uc?id=11pyqg27tGRC1iDo26C2b01bMETqdUwuf&export=download"
      ],
      "execution_count": 3,
      "outputs": [
        {
          "output_type": "stream",
          "text": [
            "--2021-02-28 13:21:06--  https://drive.google.com/u/0/uc?id=1KS6Cxl4CJnSLkMcdgbnmEdsStlVzacWX\n",
            "Resolving drive.google.com (drive.google.com)... 74.125.195.139, 74.125.195.138, 74.125.195.102, ...\n",
            "Connecting to drive.google.com (drive.google.com)|74.125.195.139|:443... connected.\n",
            "HTTP request sent, awaiting response... 302 Moved Temporarily\n",
            "Location: https://doc-08-cc-docs.googleusercontent.com/docs/securesc/ha0ro937gcuc7l7deffksulhg5h7mbp1/m9e1ftsbk1keqtufko9rhmhontmcdf8f/1614518400000/13802342090854404605/*/1KS6Cxl4CJnSLkMcdgbnmEdsStlVzacWX [following]\n",
            "Warning: wildcards not supported in HTTP.\n",
            "--2021-02-28 13:21:08--  https://doc-08-cc-docs.googleusercontent.com/docs/securesc/ha0ro937gcuc7l7deffksulhg5h7mbp1/m9e1ftsbk1keqtufko9rhmhontmcdf8f/1614518400000/13802342090854404605/*/1KS6Cxl4CJnSLkMcdgbnmEdsStlVzacWX\n",
            "Resolving doc-08-cc-docs.googleusercontent.com (doc-08-cc-docs.googleusercontent.com)... 74.125.20.132, 2607:f8b0:400e:c07::84\n",
            "Connecting to doc-08-cc-docs.googleusercontent.com (doc-08-cc-docs.googleusercontent.com)|74.125.20.132|:443... connected.\n",
            "HTTP request sent, awaiting response... 200 OK\n",
            "Length: 1859231 (1.8M) [text/csv]\n",
            "Saving to: ‘train.csv’\n",
            "\n",
            "train.csv           100%[===================>]   1.77M  --.-KB/s    in 0.01s   \n",
            "\n",
            "2021-02-28 13:21:08 (157 MB/s) - ‘train.csv’ saved [1859231/1859231]\n",
            "\n",
            "--2021-02-28 13:21:08--  https://drive.google.com/u/0/uc?id=19WKir5IRn83NMcVgvNDrmgcDj1UIv7kt\n",
            "Resolving drive.google.com (drive.google.com)... 74.125.142.113, 74.125.142.139, 74.125.142.102, ...\n",
            "Connecting to drive.google.com (drive.google.com)|74.125.142.113|:443... connected.\n",
            "HTTP request sent, awaiting response... 302 Moved Temporarily\n",
            "Location: https://doc-0c-cc-docs.googleusercontent.com/docs/securesc/ha0ro937gcuc7l7deffksulhg5h7mbp1/ehkvjvd3jerts2io0pnsg3kj4aipmd3m/1614518400000/13802342090854404605/*/19WKir5IRn83NMcVgvNDrmgcDj1UIv7kt [following]\n",
            "Warning: wildcards not supported in HTTP.\n",
            "--2021-02-28 13:21:09--  https://doc-0c-cc-docs.googleusercontent.com/docs/securesc/ha0ro937gcuc7l7deffksulhg5h7mbp1/ehkvjvd3jerts2io0pnsg3kj4aipmd3m/1614518400000/13802342090854404605/*/19WKir5IRn83NMcVgvNDrmgcDj1UIv7kt\n",
            "Resolving doc-0c-cc-docs.googleusercontent.com (doc-0c-cc-docs.googleusercontent.com)... 74.125.20.132, 2607:f8b0:400e:c07::84\n",
            "Connecting to doc-0c-cc-docs.googleusercontent.com (doc-0c-cc-docs.googleusercontent.com)|74.125.20.132|:443... connected.\n",
            "HTTP request sent, awaiting response... 200 OK\n",
            "Length: 424235 (414K) [text/csv]\n",
            "Saving to: ‘dev.csv’\n",
            "\n",
            "dev.csv             100%[===================>] 414.29K  --.-KB/s    in 0.003s  \n",
            "\n",
            "2021-02-28 13:21:09 (131 MB/s) - ‘dev.csv’ saved [424235/424235]\n",
            "\n",
            "--2021-02-28 13:21:09--  https://drive.google.com/u/0/uc?id=11pyqg27tGRC1iDo26C2b01bMETqdUwuf\n",
            "Resolving drive.google.com (drive.google.com)... 74.125.135.102, 74.125.135.138, 74.125.135.100, ...\n",
            "Connecting to drive.google.com (drive.google.com)|74.125.135.102|:443... connected.\n",
            "HTTP request sent, awaiting response... 302 Moved Temporarily\n",
            "Location: https://doc-04-70-docs.googleusercontent.com/docs/securesc/ha0ro937gcuc7l7deffksulhg5h7mbp1/26llh39j96aeus7f1pjov8s03p5tn9f4/1614518400000/18042724966187936417/*/11pyqg27tGRC1iDo26C2b01bMETqdUwuf [following]\n",
            "Warning: wildcards not supported in HTTP.\n",
            "--2021-02-28 13:21:10--  https://doc-04-70-docs.googleusercontent.com/docs/securesc/ha0ro937gcuc7l7deffksulhg5h7mbp1/26llh39j96aeus7f1pjov8s03p5tn9f4/1614518400000/18042724966187936417/*/11pyqg27tGRC1iDo26C2b01bMETqdUwuf\n",
            "Resolving doc-04-70-docs.googleusercontent.com (doc-04-70-docs.googleusercontent.com)... 74.125.20.132, 2607:f8b0:400e:c07::84\n",
            "Connecting to doc-04-70-docs.googleusercontent.com (doc-04-70-docs.googleusercontent.com)|74.125.20.132|:443... connected.\n",
            "HTTP request sent, awaiting response... 200 OK\n",
            "Length: 525642 (513K) [text/csv]\n",
            "Saving to: ‘test.csv’\n",
            "\n",
            "test.csv            100%[===================>] 513.32K  --.-KB/s    in 0.005s  \n",
            "\n",
            "2021-02-28 13:21:10 (110 MB/s) - ‘test.csv’ saved [525642/525642]\n",
            "\n"
          ],
          "name": "stdout"
        }
      ]
    },
    {
      "cell_type": "code",
      "metadata": {
        "id": "9VU17WM0m6y3"
      },
      "source": [
        "# Load data\n",
        "train_df = pd.read_csv('train.csv')\n",
        "test_df = pd.read_csv('test.csv')"
      ],
      "execution_count": 4,
      "outputs": []
    },
    {
      "cell_type": "code",
      "metadata": {
        "id": "-TevikPkl010",
        "colab": {
          "base_uri": "https://localhost:8080/",
          "height": 204
        },
        "outputId": "62a7270f-d4bb-43a7-da82-b4d22fe5c0dd"
      },
      "source": [
        "# Take a look at the data\r\n",
        "test_df.head()"
      ],
      "execution_count": 5,
      "outputs": [
        {
          "output_type": "execute_result",
          "data": {
            "text/html": [
              "<div>\n",
              "<style scoped>\n",
              "    .dataframe tbody tr th:only-of-type {\n",
              "        vertical-align: middle;\n",
              "    }\n",
              "\n",
              "    .dataframe tbody tr th {\n",
              "        vertical-align: top;\n",
              "    }\n",
              "\n",
              "    .dataframe thead th {\n",
              "        text-align: right;\n",
              "    }\n",
              "</style>\n",
              "<table border=\"1\" class=\"dataframe\">\n",
              "  <thead>\n",
              "    <tr style=\"text-align: right;\">\n",
              "      <th></th>\n",
              "      <th>id</th>\n",
              "      <th>original1</th>\n",
              "      <th>edit1</th>\n",
              "      <th>original2</th>\n",
              "      <th>edit2</th>\n",
              "    </tr>\n",
              "  </thead>\n",
              "  <tbody>\n",
              "    <tr>\n",
              "      <th>0</th>\n",
              "      <td>704-2704</td>\n",
              "      <td>\" Pence Is Trying to Control Republican Politi...</td>\n",
              "      <td>barbers</td>\n",
              "      <td>\" Pence Is Trying to &lt;Control/&gt; Republican Pol...</td>\n",
              "      <td>Bungle</td>\n",
              "    </tr>\n",
              "    <tr>\n",
              "      <th>1</th>\n",
              "      <td>704-14395</td>\n",
              "      <td>\" Pence Is Trying to Control Republican Politi...</td>\n",
              "      <td>barbers</td>\n",
              "      <td>\" &lt;Pence/&gt; Is Trying to Control Republican Pol...</td>\n",
              "      <td>Witch</td>\n",
              "    </tr>\n",
              "    <tr>\n",
              "      <th>2</th>\n",
              "      <td>2704-14395</td>\n",
              "      <td>\" Pence Is Trying to &lt;Control/&gt; Republican Pol...</td>\n",
              "      <td>Bungle</td>\n",
              "      <td>\" &lt;Pence/&gt; Is Trying to Control Republican Pol...</td>\n",
              "      <td>Witch</td>\n",
              "    </tr>\n",
              "    <tr>\n",
              "      <th>3</th>\n",
              "      <td>11098-10186</td>\n",
              "      <td>\" There is no Man Behind the Curtain , \" says ...</td>\n",
              "      <td>elephant</td>\n",
              "      <td>\" There is no Man Behind the Curtain , \" says ...</td>\n",
              "      <td>woman</td>\n",
              "    </tr>\n",
              "    <tr>\n",
              "      <th>4</th>\n",
              "      <td>11098-2118</td>\n",
              "      <td>\" There is no Man Behind the Curtain , \" says ...</td>\n",
              "      <td>elephant</td>\n",
              "      <td>\" There is no Man Behind the Curtain , \" says ...</td>\n",
              "      <td>man</td>\n",
              "    </tr>\n",
              "  </tbody>\n",
              "</table>\n",
              "</div>"
            ],
            "text/plain": [
              "            id  ...   edit2\n",
              "0     704-2704  ...  Bungle\n",
              "1    704-14395  ...   Witch\n",
              "2   2704-14395  ...   Witch\n",
              "3  11098-10186  ...   woman\n",
              "4   11098-2118  ...     man\n",
              "\n",
              "[5 rows x 5 columns]"
            ]
          },
          "metadata": {
            "tags": []
          },
          "execution_count": 5
        }
      ]
    },
    {
      "cell_type": "markdown",
      "metadata": {
        "id": "qSRS6PLHLAtf"
      },
      "source": [
        "## Download and unzip GLOVE Embeddings"
      ]
    },
    {
      "cell_type": "code",
      "metadata": {
        "id": "FlEA5Hhym6y1",
        "colab": {
          "base_uri": "https://localhost:8080/"
        },
        "outputId": "06522768-b0a3-4f74-fcb7-65c164c3c6a3"
      },
      "source": [
        "!wget http://nlp.stanford.edu/data/glove.6B.zip\n",
        "!unzip glove.6B.zip"
      ],
      "execution_count": 6,
      "outputs": [
        {
          "output_type": "stream",
          "text": [
            "--2021-02-28 13:21:10--  http://nlp.stanford.edu/data/glove.6B.zip\n",
            "Resolving nlp.stanford.edu (nlp.stanford.edu)... 171.64.67.140\n",
            "Connecting to nlp.stanford.edu (nlp.stanford.edu)|171.64.67.140|:80... connected.\n",
            "HTTP request sent, awaiting response... 302 Found\n",
            "Location: https://nlp.stanford.edu/data/glove.6B.zip [following]\n",
            "--2021-02-28 13:21:10--  https://nlp.stanford.edu/data/glove.6B.zip\n",
            "Connecting to nlp.stanford.edu (nlp.stanford.edu)|171.64.67.140|:443... connected.\n",
            "HTTP request sent, awaiting response... 301 Moved Permanently\n",
            "Location: http://downloads.cs.stanford.edu/nlp/data/glove.6B.zip [following]\n",
            "--2021-02-28 13:21:10--  http://downloads.cs.stanford.edu/nlp/data/glove.6B.zip\n",
            "Resolving downloads.cs.stanford.edu (downloads.cs.stanford.edu)... 171.64.64.22\n",
            "Connecting to downloads.cs.stanford.edu (downloads.cs.stanford.edu)|171.64.64.22|:80... connected.\n",
            "HTTP request sent, awaiting response... 200 OK\n",
            "Length: 862182613 (822M) [application/zip]\n",
            "Saving to: ‘glove.6B.zip.1’\n",
            "\n",
            "glove.6B.zip.1      100%[===================>] 822.24M  2.03MB/s    in 6m 51s  \n",
            "\n",
            "2021-02-28 13:28:02 (2.00 MB/s) - ‘glove.6B.zip.1’ saved [862182613/862182613]\n",
            "\n",
            "Archive:  glove.6B.zip\n",
            "replace glove.6B.50d.txt? [y]es, [n]o, [A]ll, [N]one, [r]ename: n\n",
            "replace glove.6B.100d.txt? [y]es, [n]o, [A]ll, [N]one, [r]ename: n\n",
            "replace glove.6B.200d.txt? [y]es, [n]o, [A]ll, [N]one, [r]ename: n\n",
            "replace glove.6B.300d.txt? [y]es, [n]o, [A]ll, [N]one, [r]ename: n\n"
          ],
          "name": "stdout"
        }
      ]
    },
    {
      "cell_type": "markdown",
      "metadata": {
        "id": "2ErHEDpRMfSv"
      },
      "source": [
        "## Training Evaluation Utility Functions"
      ]
    },
    {
      "cell_type": "code",
      "metadata": {
        "id": "iZKyXkuFm6y5"
      },
      "source": [
        "# We define our training loop\n",
        "def train(train_iter, dev_iter, model, number_epoch, optimizer, scheduler=None):\n",
        "    \"\"\"\n",
        "    Training loop for the model, which calls on eval to evaluate after each epoch\n",
        "    \"\"\"\n",
        "\n",
        "    print(\"Training model.\")\n",
        "    train_losses, train_accs, val_losses, val_accs = [], [], [], []\n",
        "    for epoch in range(1, number_epoch+1):\n",
        "        \n",
        "        model.train()\n",
        "        epoch_loss = 0\n",
        "        epoch_correct = 0\n",
        "        no_observations = 0  # Observations used for training so far\n",
        "\n",
        "        for batch in train_iter:\n",
        "            feature, target = batch\n",
        "            feature, target = feature.to(device), target.to(device)\n",
        "\n",
        "            # for RNN:\n",
        "            model.batch_size = target.shape[0]\n",
        "            no_observations = no_observations + target.shape[0]\n",
        "\n",
        "            predictions = model(feature).squeeze(1)\n",
        "            optimizer.zero_grad()\n",
        "            loss = loss_fn(predictions, target)\n",
        "\n",
        "            correct, __ = model_performance(np.argmax(predictions.detach().cpu().numpy(), axis=1), target.detach().cpu().numpy())\n",
        "\n",
        "            loss.backward()\n",
        "            optimizer.step()\n",
        "\n",
        "            if scheduler:\n",
        "              scheduler.step()\n",
        "\n",
        "            epoch_loss += loss.item()*target.shape[0]\n",
        "            epoch_correct += correct\n",
        "\n",
        "        valid_loss, valid_acc, __, __ = eval(dev_iter, model)\n",
        "\n",
        "        epoch_loss, epoch_acc = epoch_loss / no_observations, epoch_correct / no_observations\n",
        "        print(f'| Epoch: {epoch:02} | Train Loss: {epoch_loss:.2f} | Train Accuracy: {epoch_acc:.2f} | \\\n",
        "        Val. Loss: {valid_loss:.2f} | Val. Accuracy: {valid_acc:.2f} |')\n",
        "        train_losses.append(epoch_loss)\n",
        "        train_accs.append(epoch_acc)\n",
        "        val_losses.append(valid_loss)\n",
        "        val_accs.append(valid_acc)\n",
        "\n",
        "    return train_losses, train_accs, val_losses, val_accs"
      ],
      "execution_count": 7,
      "outputs": []
    },
    {
      "cell_type": "code",
      "metadata": {
        "id": "BUmf4mSTm6y6"
      },
      "source": [
        "# We evaluate performance on our dev set\n",
        "def eval(data_iter, model):\n",
        "    \"\"\"\n",
        "    Evaluating model performance on the dev set\n",
        "    \"\"\"\n",
        "    model.eval()\n",
        "    epoch_loss = 0\n",
        "    epoch_correct = 0\n",
        "    pred_all = []\n",
        "    trg_all = []\n",
        "    no_observations = 0\n",
        "\n",
        "    with torch.no_grad():\n",
        "        for batch in data_iter:\n",
        "            feature, target = batch\n",
        "\n",
        "            feature, target = feature.to(device), target.to(device)\n",
        "            \n",
        "            # for RNN:\n",
        "            model.batch_size = target.shape[0]\n",
        "            no_observations = no_observations + target.shape[0]\n",
        "\n",
        "            predictions = model(feature).squeeze(1)\n",
        "            loss = loss_fn(predictions, target)\n",
        "\n",
        "            # We get the mse\n",
        "            pred, trg = predictions.detach().cpu().numpy(), target.detach().cpu().numpy()\n",
        "            correct, __ = model_performance(np.argmax(pred, axis=1), trg)\n",
        "\n",
        "            epoch_loss += loss.item()*target.shape[0]\n",
        "            epoch_correct += correct\n",
        "            pred_all.extend(pred)\n",
        "            trg_all.extend(trg)\n",
        "\n",
        "    return epoch_loss/no_observations, epoch_correct/no_observations, np.array(pred_all), np.array(trg_all)"
      ],
      "execution_count": 8,
      "outputs": []
    },
    {
      "cell_type": "code",
      "metadata": {
        "id": "Wre27ok7m6y7"
      },
      "source": [
        "# How we print the model performance\n",
        "def model_performance(output, target, print_output=False):\n",
        "    \"\"\"\n",
        "    Returns accuracy per batch, i.e. if you get 8/10 right, this returns 0.8, NOT 8\n",
        "    \"\"\"\n",
        "\n",
        "    correct_answers = (output == target)\n",
        "    correct = sum(correct_answers)\n",
        "    acc = np.true_divide(correct,len(output))\n",
        "\n",
        "    if print_output:\n",
        "        print(f'| Acc: {acc:.2f} ')\n",
        "\n",
        "    return correct, acc"
      ],
      "execution_count": 9,
      "outputs": []
    },
    {
      "cell_type": "code",
      "metadata": {
        "id": "GWsWCL8NNBR0"
      },
      "source": [
        "def eval_test(data_iter, model, ids, filename):\n",
        "    \"\"\"\n",
        "    Evaluating model performance on the dev set\n",
        "    \"\"\"\n",
        "    model.eval()\n",
        "\n",
        "    pred_all = []\n",
        "\n",
        "\n",
        "    with torch.no_grad():\n",
        "        for batch in data_iter:\n",
        "            \n",
        "            batch = batch.to(device)\n",
        "            # for RNN:\n",
        "            model.batch_size = batch.shape[1]\n",
        "\n",
        "            predictions = model(batch).squeeze(1)\n",
        "\n",
        "            pred = predictions.detach().cpu().numpy()\n",
        "\n",
        "            pred_all.extend(pred)\n",
        "\n",
        "    pred_all = np.argmax(np.array(pred_all), axis=1)\n",
        "\n",
        "    combined = list(zip(ids, pred_all))\n",
        "\n",
        "    res = pd.DataFrame(combined, columns=['id', 'pred'])\n",
        "    res.set_index('id', inplace=True, drop=True)\n",
        "\n",
        "    res.to_csv(filename + '.csv')\n",
        "\n",
        "    return res"
      ],
      "execution_count": 10,
      "outputs": []
    },
    {
      "cell_type": "markdown",
      "metadata": {
        "id": "_L9ZReWeMo7M"
      },
      "source": [
        "# Data augmentation and Vocab Preparation\n",
        "\n",
        "The following section provides the functions used to augment the data such that we flip the ordering of input sentences and flip the resulting label. We also define the classes and functions used for creating the vocabulary data structure that maintains mappings between words and indexes."
      ]
    },
    {
      "cell_type": "markdown",
      "metadata": {
        "id": "y2qnkCm2M5QK"
      },
      "source": [
        "## Data augmentation\n",
        "\n",
        "The substitute function performs the injection of the edit word into the original sentence. This is then used in get_edited_df to return the dataframe with columns containing the edited sentences."
      ]
    },
    {
      "cell_type": "code",
      "metadata": {
        "id": "lkq5h2NF-VnS"
      },
      "source": [
        "import re\n",
        "\n",
        "def substitute(sentence, edit):\n",
        "  open_pos = sentence.find('<')\n",
        "  close_pos = sentence.find('>')\n",
        "  sub = sentence.replace(sentence[open_pos: close_pos + 1], edit)\n",
        "  return sub\n",
        "\n",
        "def get_edited_df(df, test=False):\n",
        "  id = df['id']\n",
        "  edited1 = df.apply(lambda x:substitute(x['original1'], x['edit1']), axis=1)\n",
        "  edited2 = df.apply(lambda x:substitute(x['original2'], x['edit2']), axis=1)\n",
        "  combined = list(zip(edited1,edited2))\n",
        "  if test:\n",
        "    id = df['id']\n",
        "    combined = list(zip(id,edited1,edited2))\n",
        "    return pd.DataFrame(combined, columns=['id','edited1', 'edited2'])\n",
        "  return pd.DataFrame(combined, columns=['edited1', 'edited2'])\n",
        "\n",
        "edited_train_df = get_edited_df(train_df)\n",
        "edited_test_df = get_edited_df(test_df, True)\n",
        "\n",
        "edited_train_df.head()\n",
        "\n",
        "# We set our training data and test data\n",
        "training_data = edited_train_df.values.tolist()\n",
        "labels = list(train_df['label'])\n",
        "test_data = np.array(edited_test_df.values.tolist())[:,1:].tolist()"
      ],
      "execution_count": 11,
      "outputs": []
    },
    {
      "cell_type": "markdown",
      "metadata": {
        "id": "Pp28SsNZ5HQR"
      },
      "source": [
        "## Define Vocab Class\r\n",
        "\r\n",
        "This class stores mappings from word to index and index to words. It also provides utility functions to build the mappings from files or a list data structure."
      ]
    },
    {
      "cell_type": "code",
      "metadata": {
        "id": "C3q9gLjl5TOq"
      },
      "source": [
        "class Vocabulary(object):\r\n",
        "  \"\"\"Data structure representing the vocabulary of a corpus.\"\"\"\r\n",
        "  def __init__(self):\r\n",
        "    # Mapping from tokens to integers\r\n",
        "    self._word2idx = {}\r\n",
        "\r\n",
        "    # Reverse-mapping from integers to tokens\r\n",
        "    self.idx2word = []\r\n",
        "\r\n",
        "  def word2idx(self, word, default=None):\r\n",
        "    \"\"\"Returns the integer ID of the word or default if not found.\"\"\"\r\n",
        "    return self._word2idx.get(word, default)\r\n",
        "\r\n",
        "  def add_word(self, word):\r\n",
        "    \"\"\"Adds the `word` into the vocabulary.\"\"\"\r\n",
        "    if word not in self._word2idx:\r\n",
        "      self.idx2word.append(word)\r\n",
        "      self._word2idx[word] = len(self.idx2word) - 1\r\n",
        "\r\n",
        "  def build_from_list(self, words):\r\n",
        "    for word in words:\r\n",
        "      self.add_word(word)\r\n",
        "\r\n",
        "  def build_from_file(self, fname):\r\n",
        "    \"\"\"Builds a vocabulary from a given corpus file.\"\"\"\r\n",
        "    with open(fname) as f:\r\n",
        "      for line in f:\r\n",
        "        words = line.strip().split()\r\n",
        "        for word in words:\r\n",
        "          self.add_word(word)\r\n",
        "\r\n",
        "  def convert_idxs_to_words(self, idxs):\r\n",
        "    \"\"\"Converts a list of indices to words.\"\"\"\r\n",
        "    return ' '.join(self.idx2word[idx] for idx in idxs)\r\n",
        "\r\n",
        "  def convert_words_to_idxs(self, words):\r\n",
        "    \"\"\"Converts a list of words to a list of indices.\"\"\"\r\n",
        "    return [self.word2idx(w) for w in words]\r\n",
        "\r\n",
        "  def __len__(self):\r\n",
        "    \"\"\"Returns the size of the vocabulary.\"\"\"\r\n",
        "    return len(self.idx2word)\r\n",
        "  \r\n",
        "  def __repr__(self):\r\n",
        "    return \"Vocabulary with {} items\".format(self.__len__())"
      ],
      "execution_count": 12,
      "outputs": []
    },
    {
      "cell_type": "markdown",
      "metadata": {
        "id": "Pbw3d6ZFM8_E"
      },
      "source": [
        "## Vocab Preparation\n",
        "\n",
        "create_vocab allows for the tokenization of the corpus and creation of a list of words to be passed to the vocabulary. It provides two flags which the user can set to execute data cleaning operations of punctuation and stopword removal."
      ]
    },
    {
      "cell_type": "code",
      "metadata": {
        "id": "Zub4c6BJm6y8"
      },
      "source": [
        "def create_vocab(data, remove_punc=True, remove_stopwords=True):\n",
        "    \"\"\"\n",
        "    Creating a corpus of all the tokens used\n",
        "    \"\"\"\n",
        "    tokenized_corpus = [] # Let us put the tokenized corpus in a list\n",
        "    stop_words = set(stopwords.words('english'))\n",
        "    \n",
        "    for sentence_pair in data:\n",
        "        tokenized_sentence_pair = []\n",
        "        for sentence in sentence_pair:\n",
        "            tokenized_sentence = []\n",
        "\n",
        "            # Split on spaces\n",
        "            tokens = sentence.split(' ')\n",
        "            \n",
        "            # Remove punctuation\n",
        "            if remove_punc:\n",
        "              tokens = [word for word in tokens if word.isalnum()]\n",
        "\n",
        "            # Remove stopwords\n",
        "            if remove_stopwords:\n",
        "              tokens = [word for word in tokens if not word in stop_words]\n",
        "\n",
        "            for token in tokens: \n",
        "\n",
        "                tokenized_sentence.append(token.lower())\n",
        "\n",
        "            tokenized_sentence_pair.append(tokenized_sentence)\n",
        "        tokenized_corpus.append(tokenized_sentence_pair)\n",
        "\n",
        "    # Create single list of all vocabulary\n",
        "    vocabulary = []  # Let us put all the tokens (mostly words) appearing in the vocabulary in a list\n",
        "\n",
        "    for sentence_pair in tokenized_corpus:\n",
        "\n",
        "        for sentence in sentence_pair:\n",
        "\n",
        "            for token in sentence:\n",
        "\n",
        "                if token.lower() not in vocabulary:\n",
        "\n",
        "                    vocabulary.append(token.lower())\n",
        "\n",
        "    return vocabulary, tokenized_corpus"
      ],
      "execution_count": 13,
      "outputs": []
    },
    {
      "cell_type": "markdown",
      "metadata": {
        "id": "RTQ_arcRNEjK"
      },
      "source": [
        "## Load the Dataset\n",
        "\n",
        "In this section, we present the code that is used to create train and validation pytorch dataloaders with the data augmentation of flipping the input sentences applied to the train dataloader."
      ]
    },
    {
      "cell_type": "markdown",
      "metadata": {
        "id": "AHerrK5LNJbG"
      },
      "source": [
        "### Utility functions\n",
        "\n",
        "We create a class to hold the dataset to be loaded into the dataloader."
      ]
    },
    {
      "cell_type": "code",
      "metadata": {
        "id": "dCEObxVMKUad"
      },
      "source": [
        "# We create a Dataset so we can create minibatches\n",
        "class Task2Dataset(Dataset):\n",
        "\n",
        "    def __init__(self, train_data, labels):\n",
        "        self.x_train = train_data\n",
        "        self.y_train = labels\n",
        "\n",
        "    def __len__(self):\n",
        "        return len(self.y_train)\n",
        "\n",
        "    def __getitem__(self, item):\n",
        "        return self.x_train[item], self.y_train[item]"
      ],
      "execution_count": 14,
      "outputs": []
    },
    {
      "cell_type": "code",
      "metadata": {
        "id": "m4Q_rgNjIN0L"
      },
      "source": [
        "# Used for collating our observations into minibatches:\n",
        "def collate_fn_padd(batch, test=False):\n",
        "    '''\n",
        "    We add padding to our minibatches and create tensors for our model\n",
        "    '''\n",
        "    if test:\n",
        "        batch_features = batch\n",
        "    else:\n",
        "        batch_labels = [l for f, l in batch]\n",
        "        batch_features = [f for f, l in batch]\n",
        "    \n",
        "    batch_features_len = [[len(s) for s in b] for b in batch_features]\n",
        "\n",
        "    seq_tensor = torch.zeros((2, len(batch_features), np.max(batch_features_len))).long()\n",
        "\n",
        "    # Shape of seq_tensor is batch_size x max_feature_len\n",
        "    # It should be batch_size x 2 x max_feature_len\n",
        "\n",
        "    for idx, (seq, seqlens) in enumerate(zip(batch_features, batch_features_len)):\n",
        "        for i in range(2):\n",
        "            seq_tensor[i, idx, :seqlens[i]] = torch.LongTensor(seq[i])\n",
        "\n",
        "    if test:\n",
        "      return seq_tensor\n",
        "\n",
        "    batch_labels = torch.LongTensor(batch_labels)\n",
        "    return seq_tensor, batch_labels"
      ],
      "execution_count": 15,
      "outputs": []
    },
    {
      "cell_type": "markdown",
      "metadata": {
        "id": "WD5PF9bnYsRk"
      },
      "source": [
        "### Creating Dataloaders\n",
        "\n",
        "The first function, flip_label, is used in the data augmentation process. Then the two following functions are used to create and return pytorch dataloaders for the training and test datasets. note that create_dataloaders splits the dataset into a training and validation set dataloader."
      ]
    },
    {
      "cell_type": "code",
      "metadata": {
        "id": "1yXQMGWHW_ti"
      },
      "source": [
        "def flip_label(label):\n",
        "  if label == 1:\n",
        "    return 2\n",
        "  elif label == 2:\n",
        "    return 1\n",
        "  else: \n",
        "    return label\n",
        "\n",
        "def create_dataloaders(feature, labels, collate_fn, train_proportion=0.8, batch_size=32, flip=True, seed=1):\n",
        "    torch.manual_seed(seed)\n",
        "\n",
        "    # 'feature' is a list of lists, each containing embedding IDs for word tokens\n",
        "    train_and_dev = Task2Dataset(feature, labels)\n",
        "\n",
        "    train_examples = round(len(train_and_dev)*train_proportion)\n",
        "    dev_examples = len(train_and_dev) - train_examples\n",
        "\n",
        "    train_dataset, dev_dataset = random_split(train_and_dev,\n",
        "                                              (train_examples,\n",
        "                                                dev_examples))\n",
        "\n",
        "    if flip:\n",
        "        # Add the reverse examples to the training set to create more training data\n",
        "        flipped_train_dataset = []\n",
        "        for r in train_dataset:\n",
        "          flipped_train_dataset.append((list(reversed(r[0])), flip_label(r[1])))\n",
        "        train_dataset += flipped_train_dataset\n",
        "      \n",
        "    train_loader = torch.utils.data.DataLoader(train_dataset, batch_size=batch_size, collate_fn=collate_fn, shuffle=True)\n",
        "    dev_loader = torch.utils.data.DataLoader(dev_dataset, batch_size=batch_size, collate_fn=collate_fn)\n",
        "    \n",
        "    return train_loader, dev_loader\n",
        "\n",
        "def create_test_dataloader(feature, collate_fn, batch_size=32):\n",
        "\n",
        "    test_loader = torch.utils.data.DataLoader(feature, batch_size=batch_size, collate_fn=collate_fn)\n",
        "    \n",
        "    return test_loader\n"
      ],
      "execution_count": 16,
      "outputs": []
    },
    {
      "cell_type": "markdown",
      "metadata": {
        "id": "EvXJ20y4m6y4"
      },
      "source": [
        "# Approach 1: Using pre-trained representations\n",
        "\n",
        "In this section, we explore three different methods for learning which of the two edited sentences are funnier. We first explore the use of the GloVe embeddings with a BiLSTM, then we use BERT embeddings with the same model structure and finally, we use the entire BERT architecture, including the transformer model."
      ]
    },
    {
      "cell_type": "markdown",
      "metadata": {
        "id": "_SiCAvnONQCO"
      },
      "source": [
        "## 1.1 Using pre-trained (GloVe) embeddings with a BiLSTM model"
      ]
    },
    {
      "cell_type": "markdown",
      "metadata": {
        "id": "1FlQVqkEICEE"
      },
      "source": [
        "###Create vocab, load embeddings and create dataloader"
      ]
    },
    {
      "cell_type": "code",
      "metadata": {
        "id": "Szdwn4PS-9_Y",
        "colab": {
          "base_uri": "https://localhost:8080/"
        },
        "outputId": "83ee3456-9c5c-46b3-b9fb-ac28c816c737"
      },
      "source": [
        "# Tokenize training corpus\n",
        "training_vocab, training_tokenized_corpus = create_vocab(training_data)\n",
        "\n",
        "# Creating joint vocab from test and train\n",
        "joint_vocab, joint_tokenized_corpus = create_vocab(training_data + test_data)\n",
        "\n",
        "print(\"Vocab created.\")"
      ],
      "execution_count": 17,
      "outputs": [
        {
          "output_type": "stream",
          "text": [
            "Vocab created.\n"
          ],
          "name": "stdout"
        }
      ]
    },
    {
      "cell_type": "code",
      "metadata": {
        "id": "FGQJ_QNYFu_p",
        "colab": {
          "base_uri": "https://localhost:8080/"
        },
        "outputId": "68b0a485-6835-4be6-94dd-559bae6279cf"
      },
      "source": [
        "# We create representations for our tokens\n",
        "wvecs = [] # word vectors\n",
        "\n",
        "vocab = Vocabulary()\n",
        "# This is a large file, it will take a while to load in the memory!\n",
        "with codecs.open('glove.6B.300d.txt', 'r','utf-8') as f:\n",
        "  index = 1\n",
        "  for line in f.readlines():\n",
        "    # Ignore the first line - first line typically contains vocab, dimensionality\n",
        "    if len(line.strip().split()) > 3:\n",
        "      word = line.strip().split()[0]\n",
        "      if word in joint_vocab:\n",
        "          (word, vec) = (word,\n",
        "                     list(map(float,line.strip().split()[1:])))\n",
        "          wvecs.append(vec)\n",
        "          vocab.add_word(word)\n",
        "\n",
        "\n",
        "wvecs = np.array(wvecs)\n",
        "\n",
        "features = [[[vocab.word2idx(tok) for tok in sen if tok in vocab._word2idx] for sen in seq] for seq in training_tokenized_corpus]\n",
        "\n",
        "train_loader, dev_loader = create_dataloaders(features, labels, collate_fn_padd)\n",
        "\n",
        "print(\"Dataloaders created.\")"
      ],
      "execution_count": 18,
      "outputs": [
        {
          "output_type": "stream",
          "text": [
            "Dataloaders created.\n"
          ],
          "name": "stdout"
        }
      ]
    },
    {
      "cell_type": "markdown",
      "metadata": {
        "id": "eraY3strIOrJ"
      },
      "source": [
        "### BiLSTM Model definition\r\n",
        "\r\n",
        "Note here that we have an optional parameter, use_attn. This parameter is not used for this approach, as we compare the performance of this model with learned embeddings and attention for approach 2."
      ]
    },
    {
      "cell_type": "code",
      "metadata": {
        "id": "aYyl1tpwm6y-"
      },
      "source": [
        "class BiLSTM_classification(nn.Module):\n",
        "\n",
        "    def __init__(self, embedding_dim, hidden_dim, vocab_size, num_layers=1, dropout_p=0.2, use_attn=False):\n",
        "        super(BiLSTM_classification, self).__init__()\n",
        "        self.embedding_dim = embedding_dim\n",
        "        self.embedding = nn.Embedding(vocab_size, embedding_dim, padding_idx=0)\n",
        "        self.emb_dropout = nn.Dropout(dropout_p)\n",
        "\n",
        "        # The LSTM takes word embeddings as inputs, and outputs hidden states\n",
        "        # with dimensionality hidden_dim.\n",
        "        self.lstm = nn.LSTM(embedding_dim, hidden_dim, num_layers, bidirectional=True, dropout=dropout_p)\n",
        "\n",
        "        self.use_attn = use_attn\n",
        "        if use_attn:\n",
        "            self.attn = nn.MultiheadAttention(hidden_dim * 2, num_heads=1)\n",
        "            self.attn_dropout = nn.Dropout(dropout_p)\n",
        "\n",
        "        # The linear layer that maps from hidden state space to tag space\n",
        "        self.final_layers = nn.Sequential(\n",
        "            nn.Linear(hidden_dim * 4, hidden_dim * 2),\n",
        "            nn.ReLU(),\n",
        "            nn.Linear(hidden_dim * 2, 3)\n",
        "        )\n",
        "\n",
        "    def forward(self, sentence):\n",
        "      ## Take embeddings over each sentence\n",
        "      embedding1 = self.emb_dropout(self.embedding(sentence[0]))\n",
        "      embedding2 = self.emb_dropout(self.embedding(sentence[1]))\n",
        "\n",
        "      # Permute embeddings so they are shape (seq_len, batch_size, emb_dim)\n",
        "      embedding1 = embedding1.permute(1, 0, 2)\n",
        "      embedding2 = embedding2.permute(1, 0, 2)\n",
        "\n",
        "      # Pass embeddings through lstm\n",
        "      # outputs are of shape (seq_len, batch_size, hidden_dim * 2)\n",
        "      lstm_out_1, _ = self.lstm(embedding1.view(len(embedding1), -1, self.embedding_dim))\n",
        "      lstm_out_2, _ = self.lstm(embedding2.view(len(embedding2), -1, self.embedding_dim))\n",
        "\n",
        "      # pass through attention layers (used in approach 2)\n",
        "      if self.use_attn:\n",
        "          out_1 = self.attn_dropout(self.attn(lstm_out_1[-1].unsqueeze(0), lstm_out_1, lstm_out_1)[0].squeeze())\n",
        "          out_2 = self.attn_dropout(self.attn(lstm_out_2[-1].unsqueeze(0), lstm_out_2, lstm_out_2)[0].squeeze())\n",
        "      else:\n",
        "          out_1, out_2 = lstm_out_1[-1], lstm_out_2[-1]\n",
        "      \n",
        "      # out_1 and out_2 are of shape (batch_size, hidden_dim * 2)\n",
        "      # We concat so the shape becomes (batch_size, hidden_dim * 2 * 2)\n",
        "      out = self.final_layers(torch.cat([out_1, out_2], 1))\n",
        "      return out"
      ],
      "execution_count": 19,
      "outputs": []
    },
    {
      "cell_type": "markdown",
      "metadata": {
        "id": "phs5t06prUoK"
      },
      "source": [
        "### Define Hyperparameters"
      ]
    },
    {
      "cell_type": "code",
      "metadata": {
        "id": "bL1gzjcmIxGi"
      },
      "source": [
        "epochs = 20\r\n",
        "INPUT_DIM = len(vocab) + 1\r\n",
        "HIDDEN_DIM = 200 \r\n",
        "EMBEDDING_DIM = 300\r\n",
        "num_layers = 2\r\n",
        "dropout = 0.3"
      ],
      "execution_count": 20,
      "outputs": []
    },
    {
      "cell_type": "markdown",
      "metadata": {
        "id": "tD_1RRbvIVPC"
      },
      "source": [
        "### Model Instantiation and Training"
      ]
    },
    {
      "cell_type": "code",
      "metadata": {
        "id": "XJtG2gnyD5AU",
        "colab": {
          "base_uri": "https://localhost:8080/"
        },
        "outputId": "2672db0f-25f7-45e0-eb6c-12ebfa320614"
      },
      "source": [
        "model = BiLSTM_classification(EMBEDDING_DIM, HIDDEN_DIM, INPUT_DIM, num_layers, dropout)\n",
        "print(\"Model initialised.\")\n",
        "\n",
        "model.to(device)\n",
        "\n",
        "# We provide the model with our embeddings\n",
        "model.embedding.weight.data[1:].copy_(torch.from_numpy(wvecs))\n",
        "# Freeze model embeddings\n",
        "model.embedding.weight.requires_grad = False\n",
        "\n",
        "loss_fn = nn.CrossEntropyLoss()\n",
        "loss_fn = loss_fn.to(device)\n",
        "\n",
        "optimizer = torch.optim.Adam(model.parameters())\n",
        "\n",
        "t_loss, t_acc, v_loss, v_acc = train(train_loader, dev_loader, model, epochs, optimizer)"
      ],
      "execution_count": 21,
      "outputs": [
        {
          "output_type": "stream",
          "text": [
            "Model initialised.\n",
            "Training model.\n",
            "| Epoch: 01 | Train Loss: 0.96 | Train Accuracy: 0.45 |         Val. Loss: 0.96 | Val. Accuracy: 0.46 |\n",
            "| Epoch: 02 | Train Loss: 0.95 | Train Accuracy: 0.47 |         Val. Loss: 0.94 | Val. Accuracy: 0.51 |\n",
            "| Epoch: 03 | Train Loss: 0.92 | Train Accuracy: 0.53 |         Val. Loss: 0.96 | Val. Accuracy: 0.50 |\n",
            "| Epoch: 04 | Train Loss: 0.86 | Train Accuracy: 0.59 |         Val. Loss: 0.95 | Val. Accuracy: 0.54 |\n",
            "| Epoch: 05 | Train Loss: 0.75 | Train Accuracy: 0.66 |         Val. Loss: 0.97 | Val. Accuracy: 0.55 |\n",
            "| Epoch: 06 | Train Loss: 0.63 | Train Accuracy: 0.73 |         Val. Loss: 1.02 | Val. Accuracy: 0.57 |\n",
            "| Epoch: 07 | Train Loss: 0.52 | Train Accuracy: 0.78 |         Val. Loss: 1.04 | Val. Accuracy: 0.59 |\n",
            "| Epoch: 08 | Train Loss: 0.44 | Train Accuracy: 0.82 |         Val. Loss: 1.16 | Val. Accuracy: 0.59 |\n",
            "| Epoch: 09 | Train Loss: 0.38 | Train Accuracy: 0.84 |         Val. Loss: 1.25 | Val. Accuracy: 0.57 |\n",
            "| Epoch: 10 | Train Loss: 0.33 | Train Accuracy: 0.87 |         Val. Loss: 1.41 | Val. Accuracy: 0.60 |\n",
            "| Epoch: 11 | Train Loss: 0.29 | Train Accuracy: 0.89 |         Val. Loss: 1.36 | Val. Accuracy: 0.60 |\n",
            "| Epoch: 12 | Train Loss: 0.26 | Train Accuracy: 0.90 |         Val. Loss: 1.41 | Val. Accuracy: 0.60 |\n",
            "| Epoch: 13 | Train Loss: 0.23 | Train Accuracy: 0.91 |         Val. Loss: 1.55 | Val. Accuracy: 0.61 |\n",
            "| Epoch: 14 | Train Loss: 0.22 | Train Accuracy: 0.92 |         Val. Loss: 1.52 | Val. Accuracy: 0.61 |\n",
            "| Epoch: 15 | Train Loss: 0.20 | Train Accuracy: 0.92 |         Val. Loss: 1.43 | Val. Accuracy: 0.61 |\n",
            "| Epoch: 16 | Train Loss: 0.19 | Train Accuracy: 0.93 |         Val. Loss: 1.52 | Val. Accuracy: 0.61 |\n",
            "| Epoch: 17 | Train Loss: 0.17 | Train Accuracy: 0.94 |         Val. Loss: 1.62 | Val. Accuracy: 0.61 |\n",
            "| Epoch: 18 | Train Loss: 0.16 | Train Accuracy: 0.94 |         Val. Loss: 1.60 | Val. Accuracy: 0.63 |\n",
            "| Epoch: 19 | Train Loss: 0.15 | Train Accuracy: 0.94 |         Val. Loss: 1.57 | Val. Accuracy: 0.63 |\n",
            "| Epoch: 20 | Train Loss: 0.14 | Train Accuracy: 0.95 |         Val. Loss: 1.74 | Val. Accuracy: 0.62 |\n"
          ],
          "name": "stdout"
        }
      ]
    },
    {
      "cell_type": "markdown",
      "metadata": {
        "id": "OcL6evN-OkhI"
      },
      "source": [
        "### Obtain test set predictions"
      ]
    },
    {
      "cell_type": "code",
      "metadata": {
        "id": "ZksGlYFGCJaL"
      },
      "source": [
        "test_vocab, test_tokenized_corpus = create_vocab(test_data)\n",
        "vectorized_test = [[[vocab.word2idx(tok) for tok in sen if tok in vocab._word2idx] for sen in seq] for seq in test_tokenized_corpus]\n",
        "\n",
        "test_features = vectorized_test\n",
        "test_loader = create_test_dataloader(test_features, lambda b: collate_fn_padd(b, test=True))\n",
        "\n",
        "test_results = eval_test(test_loader, model, edited_test_df['id'], \"bilstm glove\")"
      ],
      "execution_count": 22,
      "outputs": []
    },
    {
      "cell_type": "markdown",
      "metadata": {
        "id": "Foh760W1IxgS"
      },
      "source": [
        "## (Aside) Evaluate data manipulation techniques\n",
        "\n",
        "The next two cells contain code for evaluating the effects of performing the following data cleaning and augmentation operations:\n",
        "\n",
        "*   Punctuation removal (Cleaning)\n",
        "*   Stopword removal (Cleaning)\n",
        "*   Sentence flipping (Augmentation)\n",
        "\n",
        "These were tested on the BiLSTM model defined above in section 1.1, with the GloVE embeddings.\n"
      ]
    },
    {
      "cell_type": "markdown",
      "metadata": {
        "id": "Cz3ewIFDLmdu"
      },
      "source": [
        "### Train models to gather experiment data\r\n",
        "\r\n",
        "NOTE: The following cell will take a long time to run as it trains the model many times.\r\n"
      ]
    },
    {
      "cell_type": "code",
      "metadata": {
        "id": "--t-XGhBI8PS"
      },
      "source": [
        "def get_accuracies(train_loader, dev_loader):\n",
        "\n",
        "  epochs = 20\n",
        "  INPUT_DIM = len(vocab) + 1\n",
        "  HIDDEN_DIM = 200 \n",
        "  EMBEDDING_DIM = 300\n",
        "  num_layers = 2\n",
        "  dropout = 0.3\n",
        "  train_accs = []\n",
        "  val_accs = []\n",
        "  max_train_accs = []\n",
        "  max_val_accs = []\n",
        "\n",
        "  for i in range(10):\n",
        "\n",
        "    model = BiLSTM_classification(EMBEDDING_DIM, HIDDEN_DIM, INPUT_DIM, num_layers, dropout)\n",
        "    print(\"Model initialised.\")\n",
        "\n",
        "    model.to(device)\n",
        "\n",
        "    # We provide the model with our embeddings\n",
        "    model.embedding.weight.data[1:].copy_(torch.from_numpy(wvecs))\n",
        "    # Freeze model embeddings\n",
        "    model.embedding.weight.requires_grad = False\n",
        "\n",
        "    loss_fn = nn.CrossEntropyLoss()\n",
        "    loss_fn = loss_fn.to(device)\n",
        "\n",
        "    optimizer = torch.optim.Adam(model.parameters())\n",
        "\n",
        "    _, train_acc, _, val_acc = train(train_loader, dev_loader, model, epochs, optimizer)\n",
        "    train_accs.append(train_acc[-1])\n",
        "    val_accs.append(val_acc[-1])\n",
        "    max_train_accs.append(max(train_acc))\n",
        "    max_val_accs.append(max(val_acc))\n",
        "\n",
        "  return train_accs, val_accs, max_train_accs, max_val_accs\n",
        "\n",
        "# Baseline\n",
        "print(\"Running Baseline Tests\")\n",
        "training_vocab, training_tokenized_corpus = create_vocab(training_data, remove_punc=0, remove_stopwords=0)\n",
        "joint_vocab, joint_tokenized_corpus = create_vocab(training_data + test_data, remove_punc=0, remove_stopwords=0)\n",
        "train_loader, dev_loader = create_dataloaders(features, labels, collate_fn_padd, flip=0)\n",
        "baseline_train_accs, baseline_val_accs, max_baseline_train_accs, max_baseline_val_accs = get_accuracies(train_loader, dev_loader)\n",
        "\n",
        "# Punctuation Removal\n",
        "print(\"Running Punctuation Removal Tests\")\n",
        "training_vocab, training_tokenized_corpus = create_vocab(training_data, remove_punc=1, remove_stopwords=0)\n",
        "joint_vocab, joint_tokenized_corpus = create_vocab(training_data + test_data, remove_punc=1, remove_stopwords=0)\n",
        "train_loader, dev_loader = create_dataloaders(features, labels, collate_fn_padd, flip=0)\n",
        "punc_train_accs, punc_val_accs, max_punc_train_accs, max_punc_val_accs = get_accuracies(train_loader, dev_loader)\n",
        "\n",
        "# Stop Word Removal\n",
        "print(\"Running Stop Word Removal Tests\")\n",
        "training_vocab, training_tokenized_corpus = create_vocab(training_data, remove_punc=0, remove_stopwords=1)\n",
        "joint_vocab, joint_tokenized_corpus = create_vocab(training_data + test_data, remove_punc=0, remove_stopwords=1)\n",
        "train_loader, dev_loader = create_dataloaders(features, labels, collate_fn_padd, flip=0)\n",
        "stop_train_accs, stop_val_accs, max_stop_train_accs, max_stop_val_accs = get_accuracies(train_loader, dev_loader)\n",
        "\n",
        "# Both Data Cleaning\n",
        "print(\"Running Both Data Cleaning Tests\")\n",
        "training_vocab, training_tokenized_corpus = create_vocab(training_data, remove_punc=1, remove_stopwords=1)\n",
        "joint_vocab, joint_tokenized_corpus = create_vocab(training_data + test_data, remove_punc=1, remove_stopwords=1)\n",
        "train_loader, dev_loader = create_dataloaders(features, labels, collate_fn_padd, flip=0)\n",
        "clean_train_accs, clean_val_accs, max_clean_train_accs, max_clean_val_accs = get_accuracies(train_loader, dev_loader)\n",
        "\n",
        "# Data Flipping\n",
        "print(\"Running Data Flipping Tests\")\n",
        "training_vocab, training_tokenized_corpus = create_vocab(training_data, remove_punc=1, remove_stopwords=1)\n",
        "joint_vocab, joint_tokenized_corpus = create_vocab(training_data + test_data, remove_punc=1, remove_stopwords=1)\n",
        "train_loader, dev_loader = create_dataloaders(features, labels, collate_fn_padd, flip=1)\n",
        "flip_train_accs, flip_val_accs, max_flip_train_accs, max_flip_val_accs = get_accuracies(train_loader, dev_loader)\n"
      ],
      "execution_count": 23,
      "outputs": []
    },
    {
      "cell_type": "markdown",
      "metadata": {
        "id": "y4SuhX9kLc6r"
      },
      "source": [
        "### Plot box plots for each experiment"
      ]
    },
    {
      "cell_type": "code",
      "metadata": {
        "id": "SV_v2t_oLltR"
      },
      "source": [
        "## Plot box plots!\n",
        "data = {\"No Data Cleaning\": baseline_train_accs, \"Punctuation Removal\": punc_train_accs, \"Stop Word Removal\": stop_train_accs, \"Both Data Cleaning\": clean_train_accs}\n",
        "fig1, ax1 = plt.subplots(figsize=(8, 4))\n",
        "ax1.set_title('Traning Accuracy For Data Cleaning')\n",
        "ax1.boxplot(data.values(), showfliers=False)\n",
        "ax1.set_xticklabels(data.keys())\n",
        "plt.tight_layout()\n",
        "plt.savefig('Data Cleaning Training.pdf', format='pdf')\n",
        "plt.show()\n",
        "\n",
        "data = {\"No Data Cleaning\": baseline_val_accs, \"Punctuation Removal\": punc_val_accs, \"Stop Word Removal\": stop_val_accs, \"Both Data Cleaning\": clean_val_accs}\n",
        "fig1, ax1 = plt.subplots(figsize=(8, 4))\n",
        "ax1.set_title('Validation Accuracy For Data Cleaning')\n",
        "ax1.boxplot(data.values(), showfliers=False)\n",
        "ax1.set_xticklabels(data.keys())\n",
        "plt.savefig('Data Cleaning Validation.pdf', format='pdf')\n",
        "plt.show()\n",
        "\n",
        "data = {\"No Data Augmentation\": clean_train_accs, \"Data Augmentation\": flip_train_accs}\n",
        "fig1, ax1 = plt.subplots()\n",
        "ax1.set_title('Training Accuracy For Data Augmentation')\n",
        "ax1.boxplot(data.values(), showfliers=False)\n",
        "ax1.set_xticklabels(data.keys())\n",
        "plt.savefig('Data Augmentation Training.pdf', format='pdf')\n",
        "plt.show()\n",
        "\n",
        "data = {\"No Data Augmentation\": clean_val_accs, \"Data Augmentation\": flip_val_accs}\n",
        "fig1, ax1 = plt.subplots()\n",
        "ax1.set_title('Validation Accuracy For Data Augmentation')\n",
        "ax1.boxplot(data.values(), showfliers=False)\n",
        "ax1.set_xticklabels(data.keys())\n",
        "plt.savefig('Data Augmentation Validation.pdf', format='pdf')\n",
        "plt.show()"
      ],
      "execution_count": 24,
      "outputs": []
    },
    {
      "cell_type": "markdown",
      "metadata": {
        "id": "NX1hPU1F1liM"
      },
      "source": [
        "## 1.2 Using DistilBERT embeddings\n",
        "\n",
        "In this section, we will tokenize the sentences using DistilBERT's tokenizer and load the embeddings into a BiLSTM model of the same structure used in the previous section.\n",
        " "
      ]
    },
    {
      "cell_type": "markdown",
      "metadata": {
        "id": "OQPL8jfTquMW"
      },
      "source": [
        "### Tokenize sentences and load into dataloaders "
      ]
    },
    {
      "cell_type": "code",
      "metadata": {
        "id": "FupE9L_zIWWc"
      },
      "source": [
        "# Note that the following ones add an attention mask (used to tell BERT to ignore padding)\n",
        "def collate_fn_padd_BERT_embeddings(batch, test=False):\n",
        "    '''\n",
        "    We add padding to our minibatches and create tensors for our model\n",
        "    '''\n",
        "    if test:\n",
        "        batch_features = batch\n",
        "    else: \n",
        "        batch_labels = [l for f, l in batch]\n",
        "        batch_features = [f for f, l in batch]\n",
        "\n",
        "    batch_features_len = [[len(s) for s in b] for b in batch_features]\n",
        "\n",
        "    seq_tensor = torch.zeros((2, len(batch), np.max(batch_features_len))).long()\n",
        "    mask_tensor = torch.zeros((2, len(batch), np.max(batch_features_len))).long()\n",
        "\n",
        "    # Shape of seq_tensor is batch_size x max_feature_len\n",
        "    # It should be batch_size x 2 x max_feature_len\n",
        "\n",
        "    for idx, (seq, seqlens) in enumerate(zip(batch_features, batch_features_len)):\n",
        "        for i in range(2):\n",
        "            seq_tensor[i, idx, :seqlens[i]] = torch.LongTensor(seq[i])\n",
        "            mask_tensor[i, idx, :seqlens[i]] = torch.ones(seqlens[i])\n",
        "\n",
        "    feature_tensor = torch.stack([seq_tensor, mask_tensor], dim=1)\n",
        "\n",
        "    if test:\n",
        "        return feature_tensor\n",
        "\n",
        "    batch_labels = torch.LongTensor(batch_labels)\n",
        "    return feature_tensor, batch_labels"
      ],
      "execution_count": 25,
      "outputs": []
    },
    {
      "cell_type": "code",
      "metadata": {
        "id": "wTIMdGWn4-AB"
      },
      "source": [
        "tokenizer = DistilBertTokenizer.from_pretrained('distilbert-base-uncased')\n",
        "\n",
        "input_id_pairs = []\n",
        "\n",
        "for (sentence1, sentence2) in training_data:\n",
        "    encoded_sentence1 = tokenizer.encode(sentence1)\n",
        "    encoded_sentence2 = tokenizer.encode(sentence2)\n",
        "    \n",
        "    # Add the encoded sentence to the list.\n",
        "    input_id_pairs.append([encoded_sentence1, encoded_sentence2])\n",
        "\n",
        "train_loader, dev_loader = create_dataloaders(input_id_pairs, labels, collate_fn_padd_BERT_embeddings)"
      ],
      "execution_count": 26,
      "outputs": []
    },
    {
      "cell_type": "markdown",
      "metadata": {
        "id": "c1b4T4VhqtS5"
      },
      "source": [
        "### BiLSTM model with DistilBERT embeddings"
      ]
    },
    {
      "cell_type": "code",
      "metadata": {
        "id": "Z-6O_qyV_QpX"
      },
      "source": [
        "class BiLSTM_BERT_classification(nn.Module):\n",
        "\n",
        "    def __init__(self, hidden_dim, num_layers=1):\n",
        "        super(BiLSTM_BERT_classification, self).__init__()\n",
        "        self.hidden_dim = hidden_dim\n",
        "        self.bert = DistilBertModel.from_pretrained('distilbert-base-uncased',\n",
        "            output_hidden_states = True, \n",
        "        )\n",
        "        # The word embedding dimension given by concatenating last 4 hidden \n",
        "        # layers of BERT\n",
        "        self.embedding_dim = 3072\n",
        "\n",
        "\n",
        "        # The LSTM takes word embeddings as inputs, and outputs hidden states\n",
        "        # with dimensionality hidden_dim.\n",
        "        self.lstm = nn.LSTM(self.embedding_dim, hidden_dim, num_layers, bidirectional=True)\n",
        "\n",
        "        # The linear layer that maps from hidden state space to tag space\n",
        "        self.final_layer = nn.Linear(hidden_dim * 4, 3)\n",
        "\n",
        "    def compute_embeddings(self, feature):\n",
        "        b_input_ids = feature[0].to(device)\n",
        "        b_input_mask = feature[1].to(device)\n",
        "\n",
        "        with torch.no_grad():\n",
        "            # We aren't trying to train BERT here, only use its embeddings\n",
        "            self.bert.eval()\n",
        "            outputs = self.bert(\n",
        "                b_input_ids,\n",
        "                attention_mask=b_input_mask\n",
        "            )\n",
        "            hidden_states = outputs.hidden_states\n",
        "        \n",
        "        return torch.cat([hidden_states[i] for i in [-1,-2,-3,-4]], dim=-1)\n",
        "\n",
        "    def forward(self, sentences):\n",
        "      # Take BERT embeddings over each sentence\n",
        "        embedding1 = self.compute_embeddings(sentences[0])\n",
        "        embedding2 = self.compute_embeddings(sentences[1])\n",
        "\n",
        "        # Permute embeddings so they are shape (seq_len, batch_size, emb_dim)\n",
        "        embedding1 = embedding1.permute(1, 0, 2)\n",
        "        embedding2 = embedding2.permute(1, 0, 2)\n",
        "\n",
        "        # Pass embeddings through lstm\n",
        "        # outputs are of shape (seq_len, batch_size, hidden_dim * 2)\n",
        "        lstm_out_1, _ = self.lstm(embedding1.view(len(embedding1), -1, self.embedding_dim))\n",
        "        lstm_out_2, _ = self.lstm(embedding2.view(len(embedding2), -1, self.embedding_dim))\n",
        " \n",
        "        # lstm_out_1[-1] and lstm_out_2[-1] are of shape (batch_size, hidden_dim * 2)\n",
        "        # We concat so the shape becomes (batch_size, hidden_dim * 2 * 2)\n",
        "        out = self.final_layer(torch.cat((lstm_out_1[-1], lstm_out_2[-1]), 1))\n",
        "        return out"
      ],
      "execution_count": 27,
      "outputs": []
    },
    {
      "cell_type": "markdown",
      "metadata": {
        "id": "rrYnM0thqGCw"
      },
      "source": [
        "### Define Hyperparameters"
      ]
    },
    {
      "cell_type": "code",
      "metadata": {
        "id": "t74XMhC6qKKv"
      },
      "source": [
        "bert_epochs = 8\n",
        "HIDDEN_DIM = 400 \n",
        "num_layers = 4"
      ],
      "execution_count": 28,
      "outputs": []
    },
    {
      "cell_type": "markdown",
      "metadata": {
        "id": "V2P3zLeqrCLR"
      },
      "source": [
        "### Model Instantiation and Training"
      ]
    },
    {
      "cell_type": "code",
      "metadata": {
        "id": "EnHthd2vRugs",
        "colab": {
          "base_uri": "https://localhost:8080/"
        },
        "outputId": "a2c1af72-dc3a-4c64-faae-4844c96857e3"
      },
      "source": [
        "model_bert = BiLSTM_BERT_classification(HIDDEN_DIM, num_layers)\n",
        "print(\"Model initialised.\")\n",
        "\n",
        "model_bert = model_bert.to(device)\n",
        "\n",
        "loss_fn = nn.CrossEntropyLoss()\n",
        "loss_fn = loss_fn.to(device)\n",
        "\n",
        "optimizer = torch.optim.Adam(model_bert.parameters())\n",
        "\n",
        "bert_t_loss, bert_t_acc, bert_v_loss, bert_v_acc = train(train_loader, dev_loader, model_bert, bert_epochs, optimizer)"
      ],
      "execution_count": 29,
      "outputs": [
        {
          "output_type": "stream",
          "text": [
            "Model initialised.\n",
            "Training model.\n",
            "| Epoch: 01 | Train Loss: 0.97 | Train Accuracy: 0.44 |         Val. Loss: 0.96 | Val. Accuracy: 0.45 |\n",
            "| Epoch: 02 | Train Loss: 0.95 | Train Accuracy: 0.49 |         Val. Loss: 0.94 | Val. Accuracy: 0.53 |\n",
            "| Epoch: 03 | Train Loss: 0.90 | Train Accuracy: 0.58 |         Val. Loss: 0.91 | Val. Accuracy: 0.56 |\n",
            "| Epoch: 04 | Train Loss: 0.80 | Train Accuracy: 0.66 |         Val. Loss: 0.93 | Val. Accuracy: 0.61 |\n",
            "| Epoch: 05 | Train Loss: 0.66 | Train Accuracy: 0.74 |         Val. Loss: 1.01 | Val. Accuracy: 0.61 |\n",
            "| Epoch: 06 | Train Loss: 0.52 | Train Accuracy: 0.81 |         Val. Loss: 1.27 | Val. Accuracy: 0.62 |\n",
            "| Epoch: 07 | Train Loss: 0.41 | Train Accuracy: 0.85 |         Val. Loss: 1.37 | Val. Accuracy: 0.63 |\n",
            "| Epoch: 08 | Train Loss: 0.34 | Train Accuracy: 0.87 |         Val. Loss: 1.58 | Val. Accuracy: 0.62 |\n"
          ],
          "name": "stdout"
        }
      ]
    },
    {
      "cell_type": "markdown",
      "metadata": {
        "id": "Sul58j7jrUKt"
      },
      "source": [
        "### Obtain test set predictions"
      ]
    },
    {
      "cell_type": "code",
      "metadata": {
        "id": "X2oL9RyRNRV-"
      },
      "source": [
        "test_id_pairs = []\n",
        "\n",
        "for (sentence1, sentence2) in test_data:\n",
        "    encoded_sentence1 = tokenizer.encode(sentence1)\n",
        "    encoded_sentence2 = tokenizer.encode(sentence2)\n",
        "    \n",
        "    # Add the encoded sentence to the list.\n",
        "    test_id_pairs.append([encoded_sentence1, encoded_sentence2])\n",
        "\n",
        "test_loader = create_test_dataloader(test_id_pairs, lambda b: collate_fn_padd_BERT_embeddings(b, test=True))\n",
        "\n",
        "bert_preds = eval_test(test_loader, model_bert, edited_test_df['id'], \"bilstm bert\")"
      ],
      "execution_count": 30,
      "outputs": []
    },
    {
      "cell_type": "markdown",
      "metadata": {
        "id": "XYAwjlV73uCE"
      },
      "source": [
        "## 1.3 Fine-tuning DistilBERT\n",
        "\n",
        "The following code uses the pre-trained DistilBERT model as well as it's own embeddings in an attempt to solve the task. We fine tune the model, and evaluate it's performance on the test set as we have done with the others."
      ]
    },
    {
      "cell_type": "markdown",
      "metadata": {
        "id": "8MNzcSa6ta_x"
      },
      "source": [
        "### Tokenize sentences and load into dataloaders"
      ]
    },
    {
      "cell_type": "code",
      "metadata": {
        "id": "GgxxIyeoId7-"
      },
      "source": [
        "def collate_fn_padd_BERT(batch, test=False):\n",
        "    '''\n",
        "    We add padding to our minibatches and create tensors for our model\n",
        "    '''\n",
        "    if test:\n",
        "        batch_features = [cls + s1 + sep + s2 for (s1, s2) in batch]\n",
        "    else: \n",
        "        batch_features = [cls + s1 + sep + s2 for (s1, s2), l in batch]\n",
        "        batch_labels = [l for f, l in batch]\n",
        "\n",
        "    batch_features_len = [len(f) for f in batch_features]\n",
        "\n",
        "    seq_tensor = torch.zeros((len(batch_features), max(batch_features_len))).long()\n",
        "    mask_tensor = torch.zeros((len(batch_features), max(batch_features_len))).long()\n",
        "\n",
        "    for idx, (seq, seqlen) in enumerate(zip(batch_features, batch_features_len)):\n",
        "        seq_tensor[idx, :seqlen] = torch.LongTensor(seq)\n",
        "        mask_tensor[idx, :seqlen] = torch.ones(seqlen)\n",
        "\n",
        "    # Put sequence and tensor together\n",
        "    feature_tensor = torch.stack([seq_tensor, mask_tensor])\n",
        "\n",
        "    if test:\n",
        "        return feature_tensor\n",
        "  \n",
        "    batch_labels = torch.LongTensor(batch_labels)\n",
        "    return feature_tensor, batch_labels"
      ],
      "execution_count": 31,
      "outputs": []
    },
    {
      "cell_type": "code",
      "metadata": {
        "id": "MC4LgFjIxT2f"
      },
      "source": [
        "tokenizer = DistilBertTokenizer.from_pretrained('distilbert-base-uncased')\n",
        "\n",
        "input_id_pairs = []\n",
        "\n",
        "cls = tokenizer.encode('[CLS]')\n",
        "sep = tokenizer.encode('[SEP]')\n",
        "\n",
        "for (sentence1, sentence2) in training_data:\n",
        "    encoded_sentence1 = tokenizer.encode(sentence1, add_special_tokens=False)\n",
        "    encoded_sentence2 = tokenizer.encode(sentence2, add_special_tokens=False)\n",
        "    \n",
        "    # Add the encoded sentence to the list.\n",
        "    input_id_pairs.append([encoded_sentence1, encoded_sentence2])\n",
        "\n",
        "train_loader, dev_loader = create_dataloaders(input_id_pairs, labels, collate_fn_padd_BERT, flip=False)"
      ],
      "execution_count": 32,
      "outputs": []
    },
    {
      "cell_type": "markdown",
      "metadata": {
        "id": "z_LfLzmrvsYW"
      },
      "source": [
        "### DistilBert for Humour detection"
      ]
    },
    {
      "cell_type": "code",
      "metadata": {
        "id": "JtykWoYywy34"
      },
      "source": [
        "class HumourBert(nn.Module):\n",
        "    def __init__(self):\n",
        "        super(HumourBert, self).__init__()\n",
        "        self.bert = DistilBertForSequenceClassification.from_pretrained(\n",
        "            'distilbert-base-uncased', \n",
        "            num_labels = 3,\n",
        "            output_attentions = False,\n",
        "            output_hidden_states = False\n",
        "        )\n",
        "    \n",
        "    def forward(self, feature):\n",
        "        b_input_ids = feature[0].to(device)\n",
        "        b_input_mask = feature[1].to(device)\n",
        "        outputs = self.bert(\n",
        "            b_input_ids,\n",
        "            attention_mask=b_input_mask\n",
        "        )\n",
        "        return outputs.logits"
      ],
      "execution_count": 33,
      "outputs": []
    },
    {
      "cell_type": "markdown",
      "metadata": {
        "id": "9Za81ssHv0zG"
      },
      "source": [
        "### Model Instantiation and Training"
      ]
    },
    {
      "cell_type": "code",
      "metadata": {
        "id": "FEub9iOq7Hol",
        "colab": {
          "base_uri": "https://localhost:8080/"
        },
        "outputId": "3f7b4433-ce21-4a5f-d6a7-633b980db004"
      },
      "source": [
        "model = HumourBert().to(device)\n",
        "optimizer = torch.optim.AdamW(model.parameters(),\n",
        "                  lr = 1e-5,\n",
        "                  eps = 1e-8\n",
        "                )\n",
        "\n",
        "# Number of training epochs (authors recommend between 2 and 4)\n",
        "epochs = 16\n",
        "\n",
        "# Total number of training steps is number of batches * number of epochs.\n",
        "total_steps = len(train_loader) * epochs\n",
        "\n",
        "# Create the learning rate scheduler.\n",
        "scheduler = get_linear_schedule_with_warmup(optimizer, \n",
        "                                            num_warmup_steps = 0,\n",
        "                                            num_training_steps = total_steps)\n",
        "\n",
        "loss_fn = nn.CrossEntropyLoss()\n",
        "loss_fn = loss_fn.to(device)\n",
        "\n",
        "t_loss, t_acc, v_loss, v_acc = train(train_loader, dev_loader, model, epochs, optimizer, scheduler)"
      ],
      "execution_count": 34,
      "outputs": [
        {
          "output_type": "stream",
          "text": [
            "Some weights of the model checkpoint at distilbert-base-uncased were not used when initializing DistilBertForSequenceClassification: ['vocab_transform.weight', 'vocab_transform.bias', 'vocab_layer_norm.weight', 'vocab_layer_norm.bias', 'vocab_projector.weight', 'vocab_projector.bias']\n",
            "- This IS expected if you are initializing DistilBertForSequenceClassification from the checkpoint of a model trained on another task or with another architecture (e.g. initializing a BertForSequenceClassification model from a BertForPreTraining model).\n",
            "- This IS NOT expected if you are initializing DistilBertForSequenceClassification from the checkpoint of a model that you expect to be exactly identical (initializing a BertForSequenceClassification model from a BertForSequenceClassification model).\n",
            "Some weights of DistilBertForSequenceClassification were not initialized from the model checkpoint at distilbert-base-uncased and are newly initialized: ['pre_classifier.weight', 'pre_classifier.bias', 'classifier.weight', 'classifier.bias']\n",
            "You should probably TRAIN this model on a down-stream task to be able to use it for predictions and inference.\n"
          ],
          "name": "stderr"
        },
        {
          "output_type": "stream",
          "text": [
            "Training model.\n",
            "| Epoch: 01 | Train Loss: 0.97 | Train Accuracy: 0.44 |         Val. Loss: 0.96 | Val. Accuracy: 0.46 |\n",
            "| Epoch: 02 | Train Loss: 0.95 | Train Accuracy: 0.48 |         Val. Loss: 0.96 | Val. Accuracy: 0.48 |\n",
            "| Epoch: 03 | Train Loss: 0.94 | Train Accuracy: 0.51 |         Val. Loss: 0.96 | Val. Accuracy: 0.48 |\n",
            "| Epoch: 04 | Train Loss: 0.89 | Train Accuracy: 0.57 |         Val. Loss: 0.99 | Val. Accuracy: 0.49 |\n",
            "| Epoch: 05 | Train Loss: 0.80 | Train Accuracy: 0.63 |         Val. Loss: 1.04 | Val. Accuracy: 0.49 |\n",
            "| Epoch: 06 | Train Loss: 0.71 | Train Accuracy: 0.69 |         Val. Loss: 1.12 | Val. Accuracy: 0.50 |\n",
            "| Epoch: 07 | Train Loss: 0.62 | Train Accuracy: 0.73 |         Val. Loss: 1.22 | Val. Accuracy: 0.50 |\n",
            "| Epoch: 08 | Train Loss: 0.55 | Train Accuracy: 0.77 |         Val. Loss: 1.35 | Val. Accuracy: 0.50 |\n",
            "| Epoch: 09 | Train Loss: 0.48 | Train Accuracy: 0.80 |         Val. Loss: 1.43 | Val. Accuracy: 0.49 |\n",
            "| Epoch: 10 | Train Loss: 0.44 | Train Accuracy: 0.82 |         Val. Loss: 1.56 | Val. Accuracy: 0.46 |\n",
            "| Epoch: 11 | Train Loss: 0.39 | Train Accuracy: 0.84 |         Val. Loss: 1.59 | Val. Accuracy: 0.49 |\n",
            "| Epoch: 12 | Train Loss: 0.36 | Train Accuracy: 0.85 |         Val. Loss: 1.72 | Val. Accuracy: 0.48 |\n",
            "| Epoch: 13 | Train Loss: 0.33 | Train Accuracy: 0.87 |         Val. Loss: 1.79 | Val. Accuracy: 0.48 |\n",
            "| Epoch: 14 | Train Loss: 0.31 | Train Accuracy: 0.88 |         Val. Loss: 1.84 | Val. Accuracy: 0.48 |\n",
            "| Epoch: 15 | Train Loss: 0.29 | Train Accuracy: 0.88 |         Val. Loss: 1.87 | Val. Accuracy: 0.48 |\n",
            "| Epoch: 16 | Train Loss: 0.28 | Train Accuracy: 0.89 |         Val. Loss: 1.88 | Val. Accuracy: 0.48 |\n"
          ],
          "name": "stdout"
        }
      ]
    },
    {
      "cell_type": "markdown",
      "metadata": {
        "id": "JeBaH_4Kv7Zw"
      },
      "source": [
        "### Obtain test set predictions"
      ]
    },
    {
      "cell_type": "code",
      "metadata": {
        "id": "kmb2yf0udb4B"
      },
      "source": [
        "test_id_pairs = []\n",
        "\n",
        "for (sentence1, sentence2) in test_data:\n",
        "    encoded_sentence1 = tokenizer.encode(sentence1, add_special_tokens=False)\n",
        "    encoded_sentence2 = tokenizer.encode(sentence2, add_special_tokens=False)\n",
        "    \n",
        "    # Add the encoded sentence to the list.\n",
        "    test_id_pairs.append([encoded_sentence1, encoded_sentence2])\n",
        "\n",
        "test_loader = create_test_dataloader(test_id_pairs, lambda b: collate_fn_padd_BERT(b, test=True))\n",
        "\n",
        "test_results = eval_test(test_loader, model, edited_test_df['id'], \"bert model\")"
      ],
      "execution_count": 35,
      "outputs": []
    },
    {
      "cell_type": "markdown",
      "metadata": {
        "id": "YXBhmuk_m6zD"
      },
      "source": [
        "# Approach 2: No pre-trained representations\r\n",
        "\r\n",
        "In this section we will explore approaches that don't use pre-trained embeddings such as GloVe or BERT used in the previous section.\r\n",
        "\r\n",
        "Instead, we look to compare two flavours of neural models, with learned embeddings. The first of which, being the same Bidirectional LSTM model defined in the previous approach and the second being a modified version of this BiLSTM to use attention.\r\n",
        "\r\n",
        "We use two of the pre-provided cells as baselines to compare performance with our neural models, the most common class predictions and the TF-IDF model."
      ]
    },
    {
      "cell_type": "markdown",
      "metadata": {
        "id": "kmjePjgG_0n0"
      },
      "source": [
        "## 2.1 Baselines"
      ]
    },
    {
      "cell_type": "markdown",
      "metadata": {
        "id": "OT04beL1J_2P"
      },
      "source": [
        "### Prepare data"
      ]
    },
    {
      "cell_type": "code",
      "metadata": {
        "id": "wPe0PKbXKC93"
      },
      "source": [
        "# Use the concatenation of the edited sentences as training data for baseline\r\n",
        "train_and_dev = [f\"{s1} {s2}\" for s1, s2 in training_data]\r\n",
        "train_proportion = 0.8\r\n",
        "\r\n",
        "train_data, dev_data, training_y, dev_y = train_test_split(train_and_dev, labels,\r\n",
        "                                                                        test_size=(1-train_proportion),\r\n",
        "                                                                        random_state=42)"
      ],
      "execution_count": 36,
      "outputs": []
    },
    {
      "cell_type": "markdown",
      "metadata": {
        "id": "ap1vVCs-_3f-"
      },
      "source": [
        "### Most frequent class"
      ]
    },
    {
      "cell_type": "code",
      "metadata": {
        "id": "RhcP7AD6m6zE",
        "colab": {
          "base_uri": "https://localhost:8080/"
        },
        "outputId": "84793a7a-b228-4de0-f670-1f804f37aee0"
      },
      "source": [
        "# Baseline for the task\n",
        "pred_baseline = torch.zeros(len(dev_y)) + 1  # 1 is most common class\n",
        "print(\"\\nBaseline performance:\")\n",
        "sse, mse = model_performance(pred_baseline, torch.tensor(dev_y), True)"
      ],
      "execution_count": 37,
      "outputs": [
        {
          "output_type": "stream",
          "text": [
            "\n",
            "Baseline performance:\n",
            "| Acc: 0.45 \n"
          ],
          "name": "stdout"
        }
      ]
    },
    {
      "cell_type": "markdown",
      "metadata": {
        "id": "RNbYQSOa_-v-"
      },
      "source": [
        "### TF-IDF model"
      ]
    },
    {
      "cell_type": "code",
      "metadata": {
        "scrolled": true,
        "id": "V_l3AjbLm6zE",
        "colab": {
          "base_uri": "https://localhost:8080/"
        },
        "outputId": "4061ed12-47ec-4e71-cb24-0a4a39ac9dea"
      },
      "source": [
        "# We train a Tf-idf model\n",
        "count_vect = CountVectorizer(stop_words='english')\n",
        "train_counts = count_vect.fit_transform(train_data)\n",
        "transformer = TfidfTransformer().fit(train_counts)\n",
        "train_counts = transformer.transform(train_counts)\n",
        "naive_model = MultinomialNB().fit(train_counts, training_y)\n",
        "\n",
        "# Train predictions\n",
        "predicted_train = naive_model.predict(train_counts)\n",
        "\n",
        "# Calculate Tf-idf using train and dev, and validate on dev:\n",
        "test_and_test_counts = count_vect.transform(train_and_dev)\n",
        "transformer = TfidfTransformer().fit(test_and_test_counts)\n",
        "\n",
        "test_counts = count_vect.transform(dev_data)\n",
        "\n",
        "test_counts = transformer.transform(test_counts)\n",
        "\n",
        "# Dev predictions\n",
        "predicted = naive_model.predict(test_counts)\n",
        "\n",
        "# We run the evaluation:\n",
        "print(\"\\nTrain performance:\")\n",
        "\n",
        "sse, mse = model_performance(predicted_train, training_y, True)\n",
        "\n",
        "print(\"\\nDev performance:\")\n",
        "sse, mse = model_performance(predicted, dev_y, True)"
      ],
      "execution_count": 38,
      "outputs": [
        {
          "output_type": "stream",
          "text": [
            "\n",
            "Train performance:\n",
            "| Acc: 0.71 \n",
            "\n",
            "Dev performance:\n",
            "| Acc: 0.50 \n"
          ],
          "name": "stdout"
        }
      ]
    },
    {
      "cell_type": "markdown",
      "metadata": {
        "id": "FFb5aAekAKVL"
      },
      "source": [
        "## 2.2 Neural Models"
      ]
    },
    {
      "cell_type": "markdown",
      "metadata": {
        "id": "b33Dsrx-2gho"
      },
      "source": [
        "### Create vocab and load data into dataloaders\r\n",
        "\r\n",
        "Again, we must tokenize our corpus, using functions defined in the first section at the top of this notebook.\r\n",
        "\r\n",
        "We then use the Vocabulary class to create word-index mappings and from these get our vectorised sequences which we can load into a pytorch dataloader."
      ]
    },
    {
      "cell_type": "code",
      "metadata": {
        "id": "ahf7NoRMf-_8",
        "colab": {
          "base_uri": "https://localhost:8080/"
        },
        "outputId": "28af46f3-76d2-407c-c1a7-b84405d8ab3c"
      },
      "source": [
        "# We set our training data and test data\n",
        "training_data = edited_train_df.values.tolist()\n",
        "test_data = np.array(edited_test_df.values.tolist())[:,1:].tolist()\n",
        "labels = list(train_df['label'])\n",
        "\n",
        "# Creating word vectors\n",
        "training_vocab, training_tokenized_corpus = create_vocab(training_data)\n",
        "\n",
        "# Creating joint vocab from test and train\n",
        "joint_vocab, joint_tokenized_corpus = create_vocab(training_data + test_data)\n",
        "\n",
        "vocab = Vocabulary()\n",
        "\n",
        "# 0-padding token\n",
        "vocab.add_word('<pad>')\n",
        "# sentence start\n",
        "vocab.add_word('<s>')\n",
        "# sentence end\n",
        "vocab.add_word('</s>')\n",
        "# Unknown words\n",
        "vocab.add_word('<unk>')\n",
        "vocab.build_from_list(joint_vocab)\n",
        "\n",
        "features = [[[vocab._word2idx[tok] for tok in sen if tok in vocab._word2idx] for sen in seq] for seq in training_tokenized_corpus]\n",
        "\n",
        "train_loader, dev_loader = create_dataloaders(features, labels, collate_fn_padd)\n",
        "\n",
        "print(\"Dataloaders created.\")"
      ],
      "execution_count": 39,
      "outputs": [
        {
          "output_type": "stream",
          "text": [
            "Dataloaders created.\n"
          ],
          "name": "stdout"
        }
      ]
    },
    {
      "cell_type": "markdown",
      "metadata": {
        "id": "biNdQ4cwIVp0"
      },
      "source": [
        "### Define Hyperparameters"
      ]
    },
    {
      "cell_type": "code",
      "metadata": {
        "id": "lvLiegB-IYDM"
      },
      "source": [
        "attn_epochs = 20\r\n",
        "INPUT_DIM = len(vocab) + 1\r\n",
        "HIDDEN_DIM = 200 \r\n",
        "EMBEDDING_DIM = 300\r\n",
        "num_layers = 2\r\n",
        "dropout = 0.3"
      ],
      "execution_count": 40,
      "outputs": []
    },
    {
      "cell_type": "markdown",
      "metadata": {
        "id": "sVchsvzdCkNS"
      },
      "source": [
        "### 2.2.1 Train Bi-LSTM with learnable embeddings (No attention)\r\n",
        "\r\n",
        "Here we train the model defined in section 1.1, but it must learn it's own embeddings on the data. We train it with the use_attn flag set to false (default)\r\n",
        "\r\n"
      ]
    },
    {
      "cell_type": "code",
      "metadata": {
        "id": "OX6tvWIPFJRl",
        "colab": {
          "base_uri": "https://localhost:8080/"
        },
        "outputId": "e6fb9c14-7582-45bd-f133-6365d8945e60"
      },
      "source": [
        "model = BiLSTM_classification(EMBEDDING_DIM, HIDDEN_DIM, INPUT_DIM, num_layers, dropout)\n",
        "print(\"Model initialised.\")\n",
        "model.to(device)\n",
        "\n",
        "loss_fn = nn.CrossEntropyLoss()\n",
        "loss_fn = loss_fn.to(device)\n",
        "\n",
        "optimizer = torch.optim.Adam(model.parameters())\n",
        "\n",
        "t_loss, t_acc, v_loss, v_acc = train(train_loader, dev_loader, model, attn_epochs, optimizer)"
      ],
      "execution_count": 41,
      "outputs": [
        {
          "output_type": "stream",
          "text": [
            "Model initialised.\n",
            "Training model.\n",
            "| Epoch: 01 | Train Loss: 0.96 | Train Accuracy: 0.45 |         Val. Loss: 0.98 | Val. Accuracy: 0.45 |\n",
            "| Epoch: 02 | Train Loss: 0.90 | Train Accuracy: 0.50 |         Val. Loss: 1.01 | Val. Accuracy: 0.49 |\n",
            "| Epoch: 03 | Train Loss: 0.78 | Train Accuracy: 0.61 |         Val. Loss: 1.17 | Val. Accuracy: 0.49 |\n",
            "| Epoch: 04 | Train Loss: 0.64 | Train Accuracy: 0.70 |         Val. Loss: 1.33 | Val. Accuracy: 0.52 |\n",
            "| Epoch: 05 | Train Loss: 0.52 | Train Accuracy: 0.77 |         Val. Loss: 1.38 | Val. Accuracy: 0.53 |\n",
            "| Epoch: 06 | Train Loss: 0.44 | Train Accuracy: 0.81 |         Val. Loss: 1.34 | Val. Accuracy: 0.58 |\n",
            "| Epoch: 07 | Train Loss: 0.38 | Train Accuracy: 0.83 |         Val. Loss: 1.44 | Val. Accuracy: 0.58 |\n",
            "| Epoch: 08 | Train Loss: 0.32 | Train Accuracy: 0.87 |         Val. Loss: 1.55 | Val. Accuracy: 0.60 |\n",
            "| Epoch: 09 | Train Loss: 0.29 | Train Accuracy: 0.88 |         Val. Loss: 1.53 | Val. Accuracy: 0.59 |\n",
            "| Epoch: 10 | Train Loss: 0.28 | Train Accuracy: 0.89 |         Val. Loss: 1.60 | Val. Accuracy: 0.60 |\n",
            "| Epoch: 11 | Train Loss: 0.22 | Train Accuracy: 0.91 |         Val. Loss: 1.76 | Val. Accuracy: 0.60 |\n",
            "| Epoch: 12 | Train Loss: 0.21 | Train Accuracy: 0.92 |         Val. Loss: 1.54 | Val. Accuracy: 0.62 |\n",
            "| Epoch: 13 | Train Loss: 0.19 | Train Accuracy: 0.93 |         Val. Loss: 1.73 | Val. Accuracy: 0.62 |\n",
            "| Epoch: 14 | Train Loss: 0.18 | Train Accuracy: 0.93 |         Val. Loss: 1.72 | Val. Accuracy: 0.61 |\n",
            "| Epoch: 15 | Train Loss: 0.16 | Train Accuracy: 0.94 |         Val. Loss: 1.74 | Val. Accuracy: 0.62 |\n",
            "| Epoch: 16 | Train Loss: 0.15 | Train Accuracy: 0.94 |         Val. Loss: 1.64 | Val. Accuracy: 0.62 |\n",
            "| Epoch: 17 | Train Loss: 0.15 | Train Accuracy: 0.94 |         Val. Loss: 1.71 | Val. Accuracy: 0.63 |\n",
            "| Epoch: 18 | Train Loss: 0.13 | Train Accuracy: 0.95 |         Val. Loss: 1.77 | Val. Accuracy: 0.63 |\n",
            "| Epoch: 19 | Train Loss: 0.13 | Train Accuracy: 0.95 |         Val. Loss: 1.77 | Val. Accuracy: 0.63 |\n",
            "| Epoch: 20 | Train Loss: 0.12 | Train Accuracy: 0.95 |         Val. Loss: 1.90 | Val. Accuracy: 0.63 |\n"
          ],
          "name": "stdout"
        }
      ]
    },
    {
      "cell_type": "markdown",
      "metadata": {
        "id": "fCVxH9bgAsDb"
      },
      "source": [
        "### 2.2.2 Train BiLSTM with attention with learnable embeddings"
      ]
    },
    {
      "cell_type": "code",
      "metadata": {
        "id": "Mo2GztW3gAAJ",
        "colab": {
          "base_uri": "https://localhost:8080/"
        },
        "outputId": "84204fde-3492-4cd8-85b7-3008ff55c224"
      },
      "source": [
        "model_attn = BiLSTM_classification(EMBEDDING_DIM, HIDDEN_DIM, INPUT_DIM, num_layers, dropout, use_attn=True)\n",
        "print(\"Model initialised.\")\n",
        "model_attn.to(device)\n",
        "\n",
        "loss_fn = nn.CrossEntropyLoss()\n",
        "loss_fn = loss_fn.to(device)\n",
        "\n",
        "optimizer = torch.optim.Adam(model_attn.parameters())\n",
        "\n",
        "attn_t_loss, attn_t_acc, attn_v_loss, attn_v_acc = train(train_loader, dev_loader, model_attn, attn_epochs, optimizer)"
      ],
      "execution_count": 42,
      "outputs": [
        {
          "output_type": "stream",
          "text": [
            "Model initialised.\n",
            "Training model.\n",
            "| Epoch: 01 | Train Loss: 0.96 | Train Accuracy: 0.46 |         Val. Loss: 0.98 | Val. Accuracy: 0.44 |\n",
            "| Epoch: 02 | Train Loss: 0.89 | Train Accuracy: 0.53 |         Val. Loss: 1.14 | Val. Accuracy: 0.52 |\n",
            "| Epoch: 03 | Train Loss: 0.74 | Train Accuracy: 0.64 |         Val. Loss: 1.21 | Val. Accuracy: 0.57 |\n",
            "| Epoch: 04 | Train Loss: 0.57 | Train Accuracy: 0.74 |         Val. Loss: 1.39 | Val. Accuracy: 0.54 |\n",
            "| Epoch: 05 | Train Loss: 0.46 | Train Accuracy: 0.80 |         Val. Loss: 1.54 | Val. Accuracy: 0.57 |\n",
            "| Epoch: 06 | Train Loss: 0.38 | Train Accuracy: 0.84 |         Val. Loss: 1.49 | Val. Accuracy: 0.57 |\n",
            "| Epoch: 07 | Train Loss: 0.32 | Train Accuracy: 0.87 |         Val. Loss: 1.80 | Val. Accuracy: 0.60 |\n",
            "| Epoch: 08 | Train Loss: 0.28 | Train Accuracy: 0.89 |         Val. Loss: 1.82 | Val. Accuracy: 0.60 |\n",
            "| Epoch: 09 | Train Loss: 0.24 | Train Accuracy: 0.90 |         Val. Loss: 1.91 | Val. Accuracy: 0.62 |\n",
            "| Epoch: 10 | Train Loss: 0.22 | Train Accuracy: 0.91 |         Val. Loss: 1.84 | Val. Accuracy: 0.62 |\n",
            "| Epoch: 11 | Train Loss: 0.20 | Train Accuracy: 0.92 |         Val. Loss: 1.62 | Val. Accuracy: 0.62 |\n",
            "| Epoch: 12 | Train Loss: 0.18 | Train Accuracy: 0.93 |         Val. Loss: 1.93 | Val. Accuracy: 0.64 |\n",
            "| Epoch: 13 | Train Loss: 0.16 | Train Accuracy: 0.94 |         Val. Loss: 1.98 | Val. Accuracy: 0.64 |\n",
            "| Epoch: 14 | Train Loss: 0.15 | Train Accuracy: 0.94 |         Val. Loss: 1.95 | Val. Accuracy: 0.63 |\n",
            "| Epoch: 15 | Train Loss: 0.13 | Train Accuracy: 0.95 |         Val. Loss: 1.95 | Val. Accuracy: 0.63 |\n",
            "| Epoch: 16 | Train Loss: 0.12 | Train Accuracy: 0.95 |         Val. Loss: 2.17 | Val. Accuracy: 0.64 |\n",
            "| Epoch: 17 | Train Loss: 0.13 | Train Accuracy: 0.95 |         Val. Loss: 2.02 | Val. Accuracy: 0.64 |\n",
            "| Epoch: 18 | Train Loss: 0.13 | Train Accuracy: 0.95 |         Val. Loss: 2.23 | Val. Accuracy: 0.63 |\n",
            "| Epoch: 19 | Train Loss: 0.11 | Train Accuracy: 0.96 |         Val. Loss: 2.19 | Val. Accuracy: 0.63 |\n",
            "| Epoch: 20 | Train Loss: 0.10 | Train Accuracy: 0.96 |         Val. Loss: 2.36 | Val. Accuracy: 0.65 |\n"
          ],
          "name": "stdout"
        }
      ]
    },
    {
      "cell_type": "markdown",
      "metadata": {
        "id": "3gVTXs1RMYnR"
      },
      "source": [
        "### Obtain test set predictions (for both models)"
      ]
    },
    {
      "cell_type": "code",
      "metadata": {
        "id": "ODe-idwmMUl2"
      },
      "source": [
        "test_vocab, test_tokenized_corpus = create_vocab(test_data)\r\n",
        "test_features = [[[vocab.word2idx(tok) for tok in sen if tok in vocab._word2idx] for sen in seq] for seq in test_tokenized_corpus]\r\n",
        "\r\n",
        "test_loader = create_test_dataloader(test_features, lambda b: collate_fn_padd(b, test=True))\r\n",
        "\r\n",
        "test_results = eval_test(test_loader, model, edited_test_df['id'], \"lstm learned embeddings\")\r\n",
        "attn_preds = eval_test(test_loader, model_attn, edited_test_df['id'], \"lstm learned embeddings + attn\")"
      ],
      "execution_count": 43,
      "outputs": []
    },
    {
      "cell_type": "markdown",
      "metadata": {
        "id": "WzRQsAQKe0tw"
      },
      "source": [
        "# Evaluation\r\n",
        "\r\n",
        "In this section we display code that allows for the comparison and evaluation of our best models from each approach, namely the BiLSTM with BERT embeddings in approach 1 and the BiLSTM with attention in approach 2.\r\n",
        "\r\n",
        "We observe the losses and accuracies during training for both training and validation sets, and then look into more detail at the F1 score and confusion matrices on the test set.\r\n",
        "\r\n",
        "Note that the code below assumes the relevant code cells have been run, using variables for model_bert and model_attn, that have already been trained on the dataset. We also assume that their losses and accuracies are stored in variables used below."
      ]
    },
    {
      "cell_type": "code",
      "metadata": {
        "id": "VK2fS1LWtNw2"
      },
      "source": [
        "bert_epochs_arr = np.arange(bert_epochs)\r\n",
        "attn_epochs_arr = np.arange(attn_epochs)"
      ],
      "execution_count": 44,
      "outputs": []
    },
    {
      "cell_type": "markdown",
      "metadata": {
        "id": "vYkFsw9Tj1Nh"
      },
      "source": [
        "## Loss Curves"
      ]
    },
    {
      "cell_type": "code",
      "metadata": {
        "id": "FE57TH4utJLg",
        "colab": {
          "base_uri": "https://localhost:8080/",
          "height": 404
        },
        "outputId": "6b7ac6b1-102a-4b12-c930-1145c016ec2f"
      },
      "source": [
        "fig, (ax1, ax2) = plt.subplots(1, 2, figsize=(12, 6))\r\n",
        "ax1.set_title(\"LSTM with BERT embeddings\")\r\n",
        "ax1.set_xlabel(\"epoch\")\r\n",
        "ax1.set_ylabel(\"loss\")\r\n",
        "ax1.plot(bert_epochs_arr, bert_t_loss, color='blue', label='training loss')\r\n",
        "ax1.plot(bert_epochs_arr, bert_v_loss, color='orange', label='validation loss')\r\n",
        "ax1.legend()\r\n",
        "ax2.set_title(\"LSTM with attention\")\r\n",
        "ax2.set_xlabel(\"epoch\")\r\n",
        "ax2.set_ylabel(\"loss\")\r\n",
        "ax2.plot(attn_epochs_arr, attn_t_loss, color='blue', label='training loss')\r\n",
        "ax2.plot(attn_epochs_arr, attn_v_loss, color='orange', label='validation loss')\r\n",
        "ax2.legend()\r\n",
        "plt.savefig('Loss Curves.pdf', format='pdf')\r\n",
        "plt.show()"
      ],
      "execution_count": 45,
      "outputs": [
        {
          "output_type": "display_data",
          "data": {
            "image/png": "[encoded data removed]",
            "text/plain": [
              "<Figure size 864x432 with 2 Axes>"
            ]
          },
          "metadata": {
            "tags": [],
            "needs_background": "light"
          }
        }
      ]
    },
    {
      "cell_type": "markdown",
      "metadata": {
        "id": "MLVla08Gj5UR"
      },
      "source": [
        "## Accuracies"
      ]
    },
    {
      "cell_type": "code",
      "metadata": {
        "id": "1U9IG1yilgih",
        "colab": {
          "base_uri": "https://localhost:8080/",
          "height": 404
        },
        "outputId": "410e278d-980d-4350-f2ed-340b4ab0761e"
      },
      "source": [
        "fig, (ax1, ax2) = plt.subplots(1, 2, figsize=(12, 6))\r\n",
        "ax1.set_title(\"LSTM with BERT embeddings\")\r\n",
        "ax1.set_xlabel(\"epoch\")\r\n",
        "ax1.set_ylabel(\"accuracy\")\r\n",
        "ax1.plot(bert_epochs_arr, bert_t_acc, color='blue', label='training accuracy')\r\n",
        "ax1.plot(bert_epochs_arr, bert_v_acc, color='orange', label='validation accuracy')\r\n",
        "ax1.legend()\r\n",
        "ax2.set_title(\"LSTM with attention\")\r\n",
        "ax2.set_xlabel(\"epoch\")\r\n",
        "ax2.set_ylabel(\"accuracy\")\r\n",
        "ax2.plot(attn_epochs_arr, attn_t_acc, color='blue', label='training accuracy')\r\n",
        "ax2.plot(attn_epochs_arr, attn_v_acc, color='orange', label='validation accuracy')\r\n",
        "ax2.legend()\r\n",
        "plt.savefig('Accuracy Curves.pdf', format='pdf')\r\n",
        "plt.show()"
      ],
      "execution_count": 46,
      "outputs": [
        {
          "output_type": "display_data",
          "data": {
            "image/png": "[encoded data removed]",
            "text/plain": [
              "<Figure size 864x432 with 2 Axes>"
            ]
          },
          "metadata": {
            "tags": [],
            "needs_background": "light"
          }
        }
      ]
    },
    {
      "cell_type": "markdown",
      "metadata": {
        "id": "KHX4SitUj8ox"
      },
      "source": [
        "## Test set metrics"
      ]
    },
    {
      "cell_type": "markdown",
      "metadata": {
        "id": "uQyL6t2gkGoW"
      },
      "source": [
        "### Download test labels"
      ]
    },
    {
      "cell_type": "code",
      "metadata": {
        "id": "Z2CCleUlgDY_",
        "colab": {
          "base_uri": "https://localhost:8080/"
        },
        "outputId": "c16d0e28-3a4f-4f29-e940-be94c424a36d"
      },
      "source": [
        "!wget -O test_labels.csv https://drive.google.com/u/0/uc?id=1Ofb18TUPhIkn_ArAyFhqo9_ZSBgmiBIo&export=download\r\n",
        "test_labels_df = pd.read_csv('test_labels.csv')\r\n",
        "test_labels_df.head()\r\n",
        "test_labels = list(test_labels_df['label'])"
      ],
      "execution_count": 47,
      "outputs": [
        {
          "output_type": "stream",
          "text": [
            "--2021-02-28 14:31:14--  https://drive.google.com/u/0/uc?id=1Ofb18TUPhIkn_ArAyFhqo9_ZSBgmiBIo\n",
            "Resolving drive.google.com (drive.google.com)... 173.194.203.102, 173.194.203.100, 173.194.203.139, ...\n",
            "Connecting to drive.google.com (drive.google.com)|173.194.203.102|:443... connected.\n",
            "HTTP request sent, awaiting response... 302 Moved Temporarily\n",
            "Location: https://doc-14-70-docs.googleusercontent.com/docs/securesc/ha0ro937gcuc7l7deffksulhg5h7mbp1/j8d1eulg821pu2c9pi0hiepkoiir1u5k/1614522600000/18042724966187936417/*/1Ofb18TUPhIkn_ArAyFhqo9_ZSBgmiBIo [following]\n",
            "Warning: wildcards not supported in HTTP.\n",
            "--2021-02-28 14:31:14--  https://doc-14-70-docs.googleusercontent.com/docs/securesc/ha0ro937gcuc7l7deffksulhg5h7mbp1/j8d1eulg821pu2c9pi0hiepkoiir1u5k/1614522600000/18042724966187936417/*/1Ofb18TUPhIkn_ArAyFhqo9_ZSBgmiBIo\n",
            "Resolving doc-14-70-docs.googleusercontent.com (doc-14-70-docs.googleusercontent.com)... 74.125.20.132, 2607:f8b0:400e:c07::84\n",
            "Connecting to doc-14-70-docs.googleusercontent.com (doc-14-70-docs.googleusercontent.com)|74.125.20.132|:443... connected.\n",
            "HTTP request sent, awaiting response... 200 OK\n",
            "Length: 588185 (574K) [text/csv]\n",
            "Saving to: ‘test_labels.csv’\n",
            "\n",
            "test_labels.csv     100%[===================>] 574.40K  --.-KB/s    in 0.005s  \n",
            "\n",
            "2021-02-28 14:31:15 (107 MB/s) - ‘test_labels.csv’ saved [588185/588185]\n",
            "\n"
          ],
          "name": "stdout"
        }
      ]
    },
    {
      "cell_type": "code",
      "metadata": {
        "id": "M6Gcyi7IjQNX"
      },
      "source": [
        "## Convert predictions into a list.\r\n",
        "bert_preds = list(bert_preds['pred'])\r\n",
        "attn_preds = list(attn_preds['pred'])"
      ],
      "execution_count": 48,
      "outputs": []
    },
    {
      "cell_type": "markdown",
      "metadata": {
        "id": "j9kTLPdAuvqy"
      },
      "source": [
        "### Confusion matrices"
      ]
    },
    {
      "cell_type": "code",
      "metadata": {
        "id": "Oq2nZi8bkVad"
      },
      "source": [
        "bert_cmat = confusion_matrix(test_labels, bert_preds)\r\n",
        "attn_cmat = confusion_matrix(test_labels, attn_preds)"
      ],
      "execution_count": 49,
      "outputs": []
    },
    {
      "cell_type": "code",
      "metadata": {
        "id": "yrrYElkmYkb0",
        "colab": {
          "base_uri": "https://localhost:8080/",
          "height": 512
        },
        "outputId": "b76a5b4b-1e7f-4d5d-8c94-ad19a37bca1d"
      },
      "source": [
        "plt.figure(figsize = (10, 8))\r\n",
        "plt.title('LSTM with BERT Embeddings Confusion Matrix', fontsize=20)\r\n",
        "bert_cmat_plt = sn.heatmap(bert_cmat, cmap=plt.cm.Blues, annot=True, annot_kws={\"size\": 20}, fmt='g')\r\n",
        "bert_cmat_plt.set_xticklabels(bert_cmat_plt.get_xmajorticklabels(), fontsize = 18)\r\n",
        "bert_cmat_plt.set_yticklabels(bert_cmat_plt.get_ymajorticklabels(), fontsize = 18, rotation=0)\r\n",
        "plt.savefig('BERT Confusion Matrix.pdf', format='pdf')\r\n",
        "plt.show()"
      ],
      "execution_count": 55,
      "outputs": [
        {
          "output_type": "display_data",
          "data": {
            "image/png": "[encoded data removed]",
            "text/plain": [
              "<Figure size 720x576 with 2 Axes>"
            ]
          },
          "metadata": {
            "tags": [],
            "needs_background": "light"
          }
        }
      ]
    },
    {
      "cell_type": "code",
      "metadata": {
        "id": "h-0DrgYSAEVS",
        "colab": {
          "base_uri": "https://localhost:8080/",
          "height": 512
        },
        "outputId": "e92fefe1-c2ac-4af7-c4bc-def0301def1a"
      },
      "source": [
        "plt.figure(figsize = (10, 8))\n",
        "plt.title('LSTM with Attention Confusion Matrix', fontsize=20)\n",
        "attn_cmat_plt = sn.heatmap(attn_cmat, cmap=plt.cm.Blues, annot=True, annot_kws={\"size\": 20}, fmt='g')\n",
        "attn_cmat_plt.set_xticklabels(attn_cmat_plt.get_xmajorticklabels(), fontsize = 18)\n",
        "attn_cmat_plt.set_yticklabels(attn_cmat_plt.get_ymajorticklabels(), fontsize = 18, rotation=0)\n",
        "plt.savefig('Attn Confusion Matrix.pdf', format='pdf')\n",
        "plt.show()"
      ],
      "execution_count": 56,
      "outputs": [
        {
          "output_type": "display_data",
          "data": {
            "image/png": "[encoded data removed]",
            "text/plain": [
              "<Figure size 720x576 with 2 Axes>"
            ]
          },
          "metadata": {
            "tags": [],
            "needs_background": "light"
          }
        }
      ]
    },
    {
      "cell_type": "markdown",
      "metadata": {
        "id": "srpXhoKau21Q"
      },
      "source": [
        "### F1 Score"
      ]
    },
    {
      "cell_type": "code",
      "metadata": {
        "id": "-glSh1UMu4Wh",
        "colab": {
          "base_uri": "https://localhost:8080/"
        },
        "outputId": "ffe0bc81-6bc4-4b41-8290-6e45fec1272b"
      },
      "source": [
        "bert_f1 = f1_score(test_labels, bert_preds, average='weighted')\r\n",
        "attn_f1 = f1_score(test_labels, attn_preds, average='weighted')\r\n",
        "print(f\"F1 score for lstm with bert embeddings = {bert_f1}\")\r\n",
        "print(f\"F1 score for lstm with attention = {attn_f1}\")"
      ],
      "execution_count": 52,
      "outputs": [
        {
          "output_type": "stream",
          "text": [
            "F1 score for lstm with bert embeddings = 0.49201913998907587\n",
            "F1 score for lstm with attention = 0.4560567045167903\n"
          ],
          "name": "stdout"
        }
      ]
    }
  ]
}